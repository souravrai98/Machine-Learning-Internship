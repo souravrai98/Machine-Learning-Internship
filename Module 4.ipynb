{
 "cells": [
  {
   "cell_type": "markdown",
   "metadata": {},
   "source": [
    "**Answer 4.1**"
   ]
  },
  {
   "cell_type": "code",
   "execution_count": 1,
   "metadata": {},
   "outputs": [],
   "source": [
    "#importing necessary modules\n",
    "import pandas as pd\n",
    "from datetime import datetime\n",
    "import numpy as np\n",
    "import matplotlib.pyplot as plt\n",
    "import matplotlib.dates as mdates\n",
    "import seaborn as sb\n",
    "from sklearn import model_selection\n",
    "from sklearn.linear_model import LogisticRegression\n",
    "from sklearn.tree import DecisionTreeClassifier\n",
    "from sklearn.neighbors import KNeighborsClassifier\n",
    "from sklearn.discriminant_analysis import LinearDiscriminantAnalysis\n",
    "from sklearn.naive_bayes import GaussianNB\n",
    "from sklearn.svm import SVC\n",
    "from sklearn.model_selection import train_test_split\n",
    "from sklearn.metrics import confusion_matrix\n",
    "from sklearn.model_selection import cross_val_predict, cross_val_score\n",
    "from sklearn.metrics import precision_score, recall_score\n",
    "from sklearn.ensemble import RandomForestClassifier\n",
    "from sklearn.model_selection import GridSearchCV\n",
    "from sklearn.preprocessing import StandardScaler"
   ]
  },
  {
   "cell_type": "code",
   "execution_count": 3,
   "metadata": {},
   "outputs": [],
   "source": [
    "ball = pd.read_csv(\"week4.csv\")#loading the csv file of bollinger bands"
   ]
  },
  {
   "cell_type": "code",
   "execution_count": 4,
   "metadata": {},
   "outputs": [
    {
     "data": {
      "text/html": [
       "<div>\n",
       "<style scoped>\n",
       "    .dataframe tbody tr th:only-of-type {\n",
       "        vertical-align: middle;\n",
       "    }\n",
       "\n",
       "    .dataframe tbody tr th {\n",
       "        vertical-align: top;\n",
       "    }\n",
       "\n",
       "    .dataframe thead th {\n",
       "        text-align: right;\n",
       "    }\n",
       "</style>\n",
       "<table border=\"1\" class=\"dataframe\">\n",
       "  <thead>\n",
       "    <tr style=\"text-align: right;\">\n",
       "      <th></th>\n",
       "      <th>Date</th>\n",
       "      <th>Close</th>\n",
       "      <th>Rolling_avg</th>\n",
       "      <th>Upper_band</th>\n",
       "      <th>Lower_band</th>\n",
       "    </tr>\n",
       "  </thead>\n",
       "  <tbody>\n",
       "    <tr>\n",
       "      <th>0</th>\n",
       "      <td>2017-05-15</td>\n",
       "      <td>1559.50</td>\n",
       "      <td>1559.500000</td>\n",
       "      <td>NaN</td>\n",
       "      <td>NaN</td>\n",
       "    </tr>\n",
       "    <tr>\n",
       "      <th>1</th>\n",
       "      <td>2017-05-16</td>\n",
       "      <td>1566.55</td>\n",
       "      <td>1563.025000</td>\n",
       "      <td>1572.995206</td>\n",
       "      <td>1553.054794</td>\n",
       "    </tr>\n",
       "    <tr>\n",
       "      <th>2</th>\n",
       "      <td>2017-05-17</td>\n",
       "      <td>1552.50</td>\n",
       "      <td>1559.516667</td>\n",
       "      <td>1573.566696</td>\n",
       "      <td>1545.466637</td>\n",
       "    </tr>\n",
       "    <tr>\n",
       "      <th>3</th>\n",
       "      <td>2017-05-18</td>\n",
       "      <td>1537.05</td>\n",
       "      <td>1553.900000</td>\n",
       "      <td>1579.126045</td>\n",
       "      <td>1528.673955</td>\n",
       "    </tr>\n",
       "    <tr>\n",
       "      <th>4</th>\n",
       "      <td>2017-05-19</td>\n",
       "      <td>1520.60</td>\n",
       "      <td>1547.240000</td>\n",
       "      <td>1584.177474</td>\n",
       "      <td>1510.302526</td>\n",
       "    </tr>\n",
       "  </tbody>\n",
       "</table>\n",
       "</div>"
      ],
      "text/plain": [
       "         Date    Close  Rolling_avg   Upper_band   Lower_band\n",
       "0  2017-05-15  1559.50  1559.500000          NaN          NaN\n",
       "1  2017-05-16  1566.55  1563.025000  1572.995206  1553.054794\n",
       "2  2017-05-17  1552.50  1559.516667  1573.566696  1545.466637\n",
       "3  2017-05-18  1537.05  1553.900000  1579.126045  1528.673955\n",
       "4  2017-05-19  1520.60  1547.240000  1584.177474  1510.302526"
      ]
     },
     "execution_count": 4,
     "metadata": {},
     "output_type": "execute_result"
    }
   ],
   "source": [
    "ball.head()"
   ]
  },
  {
   "cell_type": "code",
   "execution_count": 5,
   "metadata": {},
   "outputs": [],
   "source": [
    "ball.dropna(inplace=True) # Removing axis having null value"
   ]
  },
  {
   "cell_type": "code",
   "execution_count": 6,
   "metadata": {},
   "outputs": [],
   "source": [
    "# Making new column\"Call\" based on conditions of bollinger bands\n",
    "ball[\"Call\"] = \"Buy\"\n",
    "ball.loc[( ball[\"Rolling_avg\"] > ball[\"Close\"] ) & ( ball[\"Lower_band\"] < ball[\"Close\"] ),[\"Call\"]]  = \"Hold Buy/ Liquidate Short\"\n",
    "ball.loc[ (ball[\"Rolling_avg\"] < ball[\"Close\"] ) & ( ball[\"Upper_band\"] > ball[\"Close\"] ),[\"Call\"]] = \"Hold Short/ Liquidate Buy\" \n",
    "ball.loc[ball[\"Close\"]>ball[\"Upper_band\"],[\"Call\"]] = \"Short\""
   ]
  },
  {
   "cell_type": "code",
   "execution_count": 7,
   "metadata": {},
   "outputs": [
    {
     "data": {
      "text/html": [
       "<div>\n",
       "<style scoped>\n",
       "    .dataframe tbody tr th:only-of-type {\n",
       "        vertical-align: middle;\n",
       "    }\n",
       "\n",
       "    .dataframe tbody tr th {\n",
       "        vertical-align: top;\n",
       "    }\n",
       "\n",
       "    .dataframe thead th {\n",
       "        text-align: right;\n",
       "    }\n",
       "</style>\n",
       "<table border=\"1\" class=\"dataframe\">\n",
       "  <thead>\n",
       "    <tr style=\"text-align: right;\">\n",
       "      <th></th>\n",
       "      <th>Date</th>\n",
       "      <th>Close</th>\n",
       "      <th>Rolling_avg</th>\n",
       "      <th>Upper_band</th>\n",
       "      <th>Lower_band</th>\n",
       "      <th>Call</th>\n",
       "    </tr>\n",
       "  </thead>\n",
       "  <tbody>\n",
       "    <tr>\n",
       "      <th>489</th>\n",
       "      <td>2019-05-07</td>\n",
       "      <td>1966.30</td>\n",
       "      <td>1987.271429</td>\n",
       "      <td>2046.178509</td>\n",
       "      <td>1928.364348</td>\n",
       "      <td>Hold Buy/ Liquidate Short</td>\n",
       "    </tr>\n",
       "    <tr>\n",
       "      <th>490</th>\n",
       "      <td>2019-05-08</td>\n",
       "      <td>1930.75</td>\n",
       "      <td>1980.542857</td>\n",
       "      <td>2042.358487</td>\n",
       "      <td>1918.727227</td>\n",
       "      <td>Hold Buy/ Liquidate Short</td>\n",
       "    </tr>\n",
       "    <tr>\n",
       "      <th>491</th>\n",
       "      <td>2019-05-09</td>\n",
       "      <td>1914.60</td>\n",
       "      <td>1973.425000</td>\n",
       "      <td>2041.184311</td>\n",
       "      <td>1905.665689</td>\n",
       "      <td>Hold Buy/ Liquidate Short</td>\n",
       "    </tr>\n",
       "    <tr>\n",
       "      <th>492</th>\n",
       "      <td>2019-05-10</td>\n",
       "      <td>1931.70</td>\n",
       "      <td>1966.639286</td>\n",
       "      <td>2030.320972</td>\n",
       "      <td>1902.957599</td>\n",
       "      <td>Hold Buy/ Liquidate Short</td>\n",
       "    </tr>\n",
       "    <tr>\n",
       "      <th>493</th>\n",
       "      <td>2019-05-13</td>\n",
       "      <td>1952.90</td>\n",
       "      <td>1963.007143</td>\n",
       "      <td>2023.280314</td>\n",
       "      <td>1902.733972</td>\n",
       "      <td>Hold Buy/ Liquidate Short</td>\n",
       "    </tr>\n",
       "  </tbody>\n",
       "</table>\n",
       "</div>"
      ],
      "text/plain": [
       "           Date    Close  Rolling_avg   Upper_band   Lower_band  \\\n",
       "489  2019-05-07  1966.30  1987.271429  2046.178509  1928.364348   \n",
       "490  2019-05-08  1930.75  1980.542857  2042.358487  1918.727227   \n",
       "491  2019-05-09  1914.60  1973.425000  2041.184311  1905.665689   \n",
       "492  2019-05-10  1931.70  1966.639286  2030.320972  1902.957599   \n",
       "493  2019-05-13  1952.90  1963.007143  2023.280314  1902.733972   \n",
       "\n",
       "                          Call  \n",
       "489  Hold Buy/ Liquidate Short  \n",
       "490  Hold Buy/ Liquidate Short  \n",
       "491  Hold Buy/ Liquidate Short  \n",
       "492  Hold Buy/ Liquidate Short  \n",
       "493  Hold Buy/ Liquidate Short  "
      ]
     },
     "execution_count": 7,
     "metadata": {},
     "output_type": "execute_result"
    }
   ],
   "source": [
    "ball.tail()"
   ]
  },
  {
   "cell_type": "code",
   "execution_count": 8,
   "metadata": {},
   "outputs": [],
   "source": [
    "#Setting Date as index\n",
    "ball[\"Date\"] = pd.to_datetime(ball[\"Date\"])\n",
    "ball.set_index(\"Date\",inplace = True)"
   ]
  },
  {
   "cell_type": "code",
   "execution_count": 9,
   "metadata": {},
   "outputs": [],
   "source": [
    "#Splitting data into training and testing set\n",
    "X = ball[[\"Close\",\"Rolling_avg\",\"Upper_band\",\"Lower_band\"]]\n",
    "Y=ball[\"Call\"]# Call column as target variable\n",
    "X_train, X_test, y_train, y_test = train_test_split(X, Y, test_size=0.2, random_state=42)"
   ]
  },
  {
   "cell_type": "code",
   "execution_count": 10,
   "metadata": {},
   "outputs": [],
   "source": [
    "#Inintialising different models\n",
    "models = []\n",
    "models.append(('LR', LogisticRegression(multi_class = 'ovr',solver='lbfgs')))\n",
    "models.append(('LDA', LinearDiscriminantAnalysis()))\n",
    "models.append(('KNN', KNeighborsClassifier()))\n",
    "models.append(('CART', DecisionTreeClassifier()))\n",
    "models.append(('NB', GaussianNB()))\n",
    "models.append(('SVM', SVC()))\n",
    "models.append(('RM',RandomForestClassifier()))"
   ]
  },
  {
   "cell_type": "code",
   "execution_count": 11,
   "metadata": {},
   "outputs": [
    {
     "name": "stdout",
     "output_type": "stream",
     "text": [
      "LR: 0.934015 (0.934010)   \n",
      "\n",
      "[[ 10   6   0   0]\n",
      " [  0 136  14   0]\n",
      " [  0   0 210   0]\n",
      " [  0   0   6  12]]\n",
      "LDA: 0.852808 (0.852792)   \n",
      "\n",
      "[[  2  14   0   0]\n",
      " [  3 124  23   0]\n",
      " [  0   0 206   4]\n",
      " [  0   0  14   4]]\n"
     ]
    },
    {
     "name": "stderr",
     "output_type": "stream",
     "text": [
      "C:\\ProgramData\\Anaconda3\\lib\\site-packages\\sklearn\\discriminant_analysis.py:388: UserWarning: Variables are collinear.\n",
      "  warnings.warn(\"Variables are collinear.\")\n",
      "C:\\ProgramData\\Anaconda3\\lib\\site-packages\\sklearn\\discriminant_analysis.py:388: UserWarning: Variables are collinear.\n",
      "  warnings.warn(\"Variables are collinear.\")\n",
      "C:\\ProgramData\\Anaconda3\\lib\\site-packages\\sklearn\\discriminant_analysis.py:388: UserWarning: Variables are collinear.\n",
      "  warnings.warn(\"Variables are collinear.\")\n",
      "C:\\ProgramData\\Anaconda3\\lib\\site-packages\\sklearn\\discriminant_analysis.py:388: UserWarning: Variables are collinear.\n",
      "  warnings.warn(\"Variables are collinear.\")\n",
      "C:\\ProgramData\\Anaconda3\\lib\\site-packages\\sklearn\\discriminant_analysis.py:388: UserWarning: Variables are collinear.\n",
      "  warnings.warn(\"Variables are collinear.\")\n",
      "C:\\ProgramData\\Anaconda3\\lib\\site-packages\\sklearn\\discriminant_analysis.py:388: UserWarning: Variables are collinear.\n",
      "  warnings.warn(\"Variables are collinear.\")\n",
      "C:\\ProgramData\\Anaconda3\\lib\\site-packages\\sklearn\\discriminant_analysis.py:388: UserWarning: Variables are collinear.\n",
      "  warnings.warn(\"Variables are collinear.\")\n",
      "C:\\ProgramData\\Anaconda3\\lib\\site-packages\\sklearn\\discriminant_analysis.py:388: UserWarning: Variables are collinear.\n",
      "  warnings.warn(\"Variables are collinear.\")\n",
      "C:\\ProgramData\\Anaconda3\\lib\\site-packages\\sklearn\\discriminant_analysis.py:388: UserWarning: Variables are collinear.\n",
      "  warnings.warn(\"Variables are collinear.\")\n",
      "C:\\ProgramData\\Anaconda3\\lib\\site-packages\\sklearn\\discriminant_analysis.py:388: UserWarning: Variables are collinear.\n",
      "  warnings.warn(\"Variables are collinear.\")\n"
     ]
    },
    {
     "name": "stdout",
     "output_type": "stream",
     "text": [
      "KNN: 0.817462 (0.817259)   \n",
      "\n",
      "[[  0  16   0   0]\n",
      " [  2 127  21   0]\n",
      " [  0  16 192   2]\n",
      " [  0   0  15   3]]\n",
      "CART: 0.771730 (0.771574)   \n",
      "\n",
      "[[  4  11   1   0]\n",
      " [  4 124  22   0]\n",
      " [  1  23 172  14]\n",
      " [  0   0  14   4]]\n",
      "NB: 0.548101 (0.548223)   \n",
      "\n",
      "[[  1   9   6   0]\n",
      " [  2  24 124   0]\n",
      " [  1  18 191   0]\n",
      " [  0   2  16   0]]\n"
     ]
    },
    {
     "name": "stderr",
     "output_type": "stream",
     "text": [
      "C:\\ProgramData\\Anaconda3\\lib\\site-packages\\sklearn\\svm\\base.py:193: FutureWarning: The default value of gamma will change from 'auto' to 'scale' in version 0.22 to account better for unscaled features. Set gamma explicitly to 'auto' or 'scale' to avoid this warning.\n",
      "  \"avoid this warning.\", FutureWarning)\n",
      "C:\\ProgramData\\Anaconda3\\lib\\site-packages\\sklearn\\svm\\base.py:193: FutureWarning: The default value of gamma will change from 'auto' to 'scale' in version 0.22 to account better for unscaled features. Set gamma explicitly to 'auto' or 'scale' to avoid this warning.\n",
      "  \"avoid this warning.\", FutureWarning)\n",
      "C:\\ProgramData\\Anaconda3\\lib\\site-packages\\sklearn\\svm\\base.py:193: FutureWarning: The default value of gamma will change from 'auto' to 'scale' in version 0.22 to account better for unscaled features. Set gamma explicitly to 'auto' or 'scale' to avoid this warning.\n",
      "  \"avoid this warning.\", FutureWarning)\n",
      "C:\\ProgramData\\Anaconda3\\lib\\site-packages\\sklearn\\svm\\base.py:193: FutureWarning: The default value of gamma will change from 'auto' to 'scale' in version 0.22 to account better for unscaled features. Set gamma explicitly to 'auto' or 'scale' to avoid this warning.\n",
      "  \"avoid this warning.\", FutureWarning)\n",
      "C:\\ProgramData\\Anaconda3\\lib\\site-packages\\sklearn\\svm\\base.py:193: FutureWarning: The default value of gamma will change from 'auto' to 'scale' in version 0.22 to account better for unscaled features. Set gamma explicitly to 'auto' or 'scale' to avoid this warning.\n",
      "  \"avoid this warning.\", FutureWarning)\n",
      "C:\\ProgramData\\Anaconda3\\lib\\site-packages\\sklearn\\svm\\base.py:193: FutureWarning: The default value of gamma will change from 'auto' to 'scale' in version 0.22 to account better for unscaled features. Set gamma explicitly to 'auto' or 'scale' to avoid this warning.\n",
      "  \"avoid this warning.\", FutureWarning)\n",
      "C:\\ProgramData\\Anaconda3\\lib\\site-packages\\sklearn\\svm\\base.py:193: FutureWarning: The default value of gamma will change from 'auto' to 'scale' in version 0.22 to account better for unscaled features. Set gamma explicitly to 'auto' or 'scale' to avoid this warning.\n",
      "  \"avoid this warning.\", FutureWarning)\n",
      "C:\\ProgramData\\Anaconda3\\lib\\site-packages\\sklearn\\svm\\base.py:193: FutureWarning: The default value of gamma will change from 'auto' to 'scale' in version 0.22 to account better for unscaled features. Set gamma explicitly to 'auto' or 'scale' to avoid this warning.\n",
      "  \"avoid this warning.\", FutureWarning)\n",
      "C:\\ProgramData\\Anaconda3\\lib\\site-packages\\sklearn\\svm\\base.py:193: FutureWarning: The default value of gamma will change from 'auto' to 'scale' in version 0.22 to account better for unscaled features. Set gamma explicitly to 'auto' or 'scale' to avoid this warning.\n",
      "  \"avoid this warning.\", FutureWarning)\n",
      "C:\\ProgramData\\Anaconda3\\lib\\site-packages\\sklearn\\svm\\base.py:193: FutureWarning: The default value of gamma will change from 'auto' to 'scale' in version 0.22 to account better for unscaled features. Set gamma explicitly to 'auto' or 'scale' to avoid this warning.\n",
      "  \"avoid this warning.\", FutureWarning)\n",
      "C:\\ProgramData\\Anaconda3\\lib\\site-packages\\sklearn\\ensemble\\forest.py:245: FutureWarning: The default value of n_estimators will change from 10 in version 0.20 to 100 in 0.22.\n",
      "  \"10 in version 0.20 to 100 in 0.22.\", FutureWarning)\n"
     ]
    },
    {
     "name": "stdout",
     "output_type": "stream",
     "text": [
      "SVM: 0.553100 (0.553299)   \n",
      "\n",
      "[[  0   0  16   0]\n",
      " [  0   8 142   0]\n",
      " [  0   0 210   0]\n",
      " [  0   0  18   0]]\n"
     ]
    },
    {
     "name": "stderr",
     "output_type": "stream",
     "text": [
      "C:\\ProgramData\\Anaconda3\\lib\\site-packages\\sklearn\\ensemble\\forest.py:245: FutureWarning: The default value of n_estimators will change from 10 in version 0.20 to 100 in 0.22.\n",
      "  \"10 in version 0.20 to 100 in 0.22.\", FutureWarning)\n",
      "C:\\ProgramData\\Anaconda3\\lib\\site-packages\\sklearn\\ensemble\\forest.py:245: FutureWarning: The default value of n_estimators will change from 10 in version 0.20 to 100 in 0.22.\n",
      "  \"10 in version 0.20 to 100 in 0.22.\", FutureWarning)\n",
      "C:\\ProgramData\\Anaconda3\\lib\\site-packages\\sklearn\\ensemble\\forest.py:245: FutureWarning: The default value of n_estimators will change from 10 in version 0.20 to 100 in 0.22.\n",
      "  \"10 in version 0.20 to 100 in 0.22.\", FutureWarning)\n",
      "C:\\ProgramData\\Anaconda3\\lib\\site-packages\\sklearn\\ensemble\\forest.py:245: FutureWarning: The default value of n_estimators will change from 10 in version 0.20 to 100 in 0.22.\n",
      "  \"10 in version 0.20 to 100 in 0.22.\", FutureWarning)\n",
      "C:\\ProgramData\\Anaconda3\\lib\\site-packages\\sklearn\\ensemble\\forest.py:245: FutureWarning: The default value of n_estimators will change from 10 in version 0.20 to 100 in 0.22.\n",
      "  \"10 in version 0.20 to 100 in 0.22.\", FutureWarning)\n",
      "C:\\ProgramData\\Anaconda3\\lib\\site-packages\\sklearn\\ensemble\\forest.py:245: FutureWarning: The default value of n_estimators will change from 10 in version 0.20 to 100 in 0.22.\n",
      "  \"10 in version 0.20 to 100 in 0.22.\", FutureWarning)\n",
      "C:\\ProgramData\\Anaconda3\\lib\\site-packages\\sklearn\\ensemble\\forest.py:245: FutureWarning: The default value of n_estimators will change from 10 in version 0.20 to 100 in 0.22.\n",
      "  \"10 in version 0.20 to 100 in 0.22.\", FutureWarning)\n",
      "C:\\ProgramData\\Anaconda3\\lib\\site-packages\\sklearn\\ensemble\\forest.py:245: FutureWarning: The default value of n_estimators will change from 10 in version 0.20 to 100 in 0.22.\n",
      "  \"10 in version 0.20 to 100 in 0.22.\", FutureWarning)\n",
      "C:\\ProgramData\\Anaconda3\\lib\\site-packages\\sklearn\\ensemble\\forest.py:245: FutureWarning: The default value of n_estimators will change from 10 in version 0.20 to 100 in 0.22.\n",
      "  \"10 in version 0.20 to 100 in 0.22.\", FutureWarning)\n"
     ]
    },
    {
     "name": "stdout",
     "output_type": "stream",
     "text": [
      "RM: 0.807238 (0.794416)   \n",
      "\n",
      "[[  3  12   1   0]\n",
      " [  2 127  21   0]\n",
      " [  0  29 181   0]\n",
      " [  0   0  16   2]]\n"
     ]
    },
    {
     "data": {
      "image/png": "[encoded data removed]",
      "text/plain": [
       "<matplotlib.figure.Figure at 0x1977b756278>"
      ]
     },
     "metadata": {},
     "output_type": "display_data"
    }
   ],
   "source": [
    "#Testing different models using box plot and printing the accuracy, precision and confusion matrix\n",
    "results = []\n",
    "names = []\n",
    "array = []\n",
    "scoring = 'accuracy'\n",
    "seed = 7\n",
    "cv_num =3\n",
    "param = 'micro'\n",
    "for name, model in models:\n",
    "    kfold = model_selection.KFold(n_splits=5, random_state=seed)\n",
    "    cv_results = model_selection.cross_val_score(model, X_train, y_train, cv=kfold, scoring=scoring)\n",
    "    y_train_pred = cross_val_predict(model,X_train,y_train,cv=kfold)\n",
    "    arrays = confusion_matrix(y_train,y_train_pred)\n",
    "    results.append(cv_results)\n",
    "    prec = precision_score(y_train,y_train_pred,average = param)\n",
    "    names.append(name)\n",
    "    msg = \"%s: %f (%f)  \" % (name, cv_results.mean(), prec)\n",
    "    print(msg,'\\n')\n",
    "    print(arrays)\n",
    "# boxplot algorithm comparison\n",
    "fig = plt.figure()\n",
    "fig.suptitle('Algorithm Comparison')\n",
    "ax = fig.add_subplot(111)\n",
    "plt.boxplot(results)\n",
    "ax.set_xticklabels(names)\n",
    "plt.show()"
   ]
  },
  {
   "cell_type": "code",
   "execution_count": 12,
   "metadata": {},
   "outputs": [],
   "source": [
    "#Making a parameter grid for grid search\n",
    "param_grid =  {'C' : np.logspace(-4, 4, 20),'solver' : ['liblinear','newton-cg', 'lbfgs', 'liblinear', 'sag', 'saga'],'class_weight' : ['balanced'],}\n"
   ]
  },
  {
   "cell_type": "code",
   "execution_count": 13,
   "metadata": {},
   "outputs": [],
   "source": [
    "\n",
    "clf = LogisticRegression()#Initialising a logistic regression variable\n",
    "grid_search = GridSearchCV(clf, param_grid = param_grid, cv = 3, verbose=True, n_jobs=-1)"
   ]
  },
  {
   "cell_type": "code",
   "execution_count": 14,
   "metadata": {},
   "outputs": [
    {
     "name": "stdout",
     "output_type": "stream",
     "text": [
      "Fitting 3 folds for each of 120 candidates, totalling 360 fits\n"
     ]
    },
    {
     "name": "stderr",
     "output_type": "stream",
     "text": [
      "[Parallel(n_jobs=-1)]: Using backend LokyBackend with 4 concurrent workers.\n",
      "[Parallel(n_jobs=-1)]: Done  42 tasks      | elapsed:    5.0s\n",
      "[Parallel(n_jobs=-1)]: Done 360 out of 360 | elapsed:   17.1s finished\n",
      "C:\\ProgramData\\Anaconda3\\lib\\site-packages\\sklearn\\model_selection\\_search.py:813: DeprecationWarning: The default of the `iid` parameter will change from True to False in version 0.22 and will be removed in 0.24. This will change numeric results when test-set sizes are unequal.\n",
      "  DeprecationWarning)\n",
      "C:\\ProgramData\\Anaconda3\\lib\\site-packages\\sklearn\\linear_model\\logistic.py:469: FutureWarning: Default multi_class will be changed to 'auto' in 0.22. Specify the multi_class option to silence this warning.\n",
      "  \"this warning.\", FutureWarning)\n"
     ]
    },
    {
     "data": {
      "text/plain": [
       "GridSearchCV(cv=3, error_score='raise-deprecating',\n",
       "             estimator=LogisticRegression(C=1.0, class_weight=None, dual=False,\n",
       "                                          fit_intercept=True,\n",
       "                                          intercept_scaling=1, l1_ratio=None,\n",
       "                                          max_iter=100, multi_class='warn',\n",
       "                                          n_jobs=None, penalty='l2',\n",
       "                                          random_state=None, solver='warn',\n",
       "                                          tol=0.0001, verbose=0,\n",
       "                                          warm_start=False),\n",
       "             iid='warn', n_jobs=-1,\n",
       "             param_grid={'C': array([1.00000000e...\n",
       "       2.33572147e-01, 6.15848211e-01, 1.62377674e+00, 4.28133240e+00,\n",
       "       1.12883789e+01, 2.97635144e+01, 7.84759970e+01, 2.06913808e+02,\n",
       "       5.45559478e+02, 1.43844989e+03, 3.79269019e+03, 1.00000000e+04]),\n",
       "                         'class_weight': ['balanced'],\n",
       "                         'solver': ['liblinear', 'newton-cg', 'lbfgs',\n",
       "                                    'liblinear', 'sag', 'saga']},\n",
       "             pre_dispatch='2*n_jobs', refit=True, return_train_score=False,\n",
       "             scoring=None, verbose=True)"
      ]
     },
     "execution_count": 14,
     "metadata": {},
     "output_type": "execute_result"
    }
   ],
   "source": [
    "grid_search.fit(X_train,y_train)#Fitting the param_grid to the model"
   ]
  },
  {
   "cell_type": "code",
   "execution_count": 15,
   "metadata": {},
   "outputs": [
    {
     "name": "stdout",
     "output_type": "stream",
     "text": [
      "{'C': 29.763514416313132, 'class_weight': 'balanced', 'solver': 'lbfgs'}\n"
     ]
    }
   ],
   "source": [
    "best_parameters = grid_search.best_params_  \n",
    "print(best_parameters)  #Printing the best scoring parameters"
   ]
  },
  {
   "cell_type": "code",
   "execution_count": 16,
   "metadata": {},
   "outputs": [],
   "source": [
    "log_reg = LogisticRegression(C=29.763514416313132,class_weight = 'balanced',solver='lbfgs')#Initialising the model with the best parameters"
   ]
  },
  {
   "cell_type": "code",
   "execution_count": 17,
   "metadata": {},
   "outputs": [
    {
     "name": "stderr",
     "output_type": "stream",
     "text": [
      "C:\\ProgramData\\Anaconda3\\lib\\site-packages\\sklearn\\linear_model\\logistic.py:469: FutureWarning: Default multi_class will be changed to 'auto' in 0.22. Specify the multi_class option to silence this warning.\n",
      "  \"this warning.\", FutureWarning)\n",
      "C:\\ProgramData\\Anaconda3\\lib\\site-packages\\sklearn\\linear_model\\logistic.py:469: FutureWarning: Default multi_class will be changed to 'auto' in 0.22. Specify the multi_class option to silence this warning.\n",
      "  \"this warning.\", FutureWarning)\n",
      "C:\\ProgramData\\Anaconda3\\lib\\site-packages\\sklearn\\linear_model\\logistic.py:469: FutureWarning: Default multi_class will be changed to 'auto' in 0.22. Specify the multi_class option to silence this warning.\n",
      "  \"this warning.\", FutureWarning)\n"
     ]
    },
    {
     "name": "stdout",
     "output_type": "stream",
     "text": [
      "0.9847715736040609\n"
     ]
    }
   ],
   "source": [
    "y_train_pred = cross_val_predict(log_reg,X_train,y_train,cv=3)# Testing the model on training set\n",
    "prec = precision_score(y_train,y_train_pred,average = 'micro')#Getting the precision scores\n",
    "print(prec)#Printing the precision scores"
   ]
  },
  {
   "cell_type": "code",
   "execution_count": 18,
   "metadata": {},
   "outputs": [
    {
     "name": "stderr",
     "output_type": "stream",
     "text": [
      "C:\\ProgramData\\Anaconda3\\lib\\site-packages\\sklearn\\linear_model\\logistic.py:469: FutureWarning: Default multi_class will be changed to 'auto' in 0.22. Specify the multi_class option to silence this warning.\n",
      "  \"this warning.\", FutureWarning)\n",
      "C:\\ProgramData\\Anaconda3\\lib\\site-packages\\sklearn\\linear_model\\logistic.py:469: FutureWarning: Default multi_class will be changed to 'auto' in 0.22. Specify the multi_class option to silence this warning.\n",
      "  \"this warning.\", FutureWarning)\n",
      "C:\\ProgramData\\Anaconda3\\lib\\site-packages\\sklearn\\linear_model\\logistic.py:469: FutureWarning: Default multi_class will be changed to 'auto' in 0.22. Specify the multi_class option to silence this warning.\n",
      "  \"this warning.\", FutureWarning)\n",
      "C:\\ProgramData\\Anaconda3\\lib\\site-packages\\sklearn\\linear_model\\logistic.py:469: FutureWarning: Default multi_class will be changed to 'auto' in 0.22. Specify the multi_class option to silence this warning.\n",
      "  \"this warning.\", FutureWarning)\n"
     ]
    },
    {
     "name": "stdout",
     "output_type": "stream",
     "text": [
      "0.9595959595959596 0.9847713779011489\n"
     ]
    },
    {
     "name": "stderr",
     "output_type": "stream",
     "text": [
      "C:\\ProgramData\\Anaconda3\\lib\\site-packages\\sklearn\\linear_model\\logistic.py:469: FutureWarning: Default multi_class will be changed to 'auto' in 0.22. Specify the multi_class option to silence this warning.\n",
      "  \"this warning.\", FutureWarning)\n",
      "C:\\ProgramData\\Anaconda3\\lib\\site-packages\\sklearn\\linear_model\\logistic.py:469: FutureWarning: Default multi_class will be changed to 'auto' in 0.22. Specify the multi_class option to silence this warning.\n",
      "  \"this warning.\", FutureWarning)\n"
     ]
    }
   ],
   "source": [
    "#Testing the model on test set\n",
    "final_pred = cross_val_predict(log_reg,X_test,y_test,cv=3)\n",
    "prec1 =  precision_score(y_test,final_pred,average = 'micro')\n",
    "cv_results1 = model_selection.cross_val_score(log_reg, X_train, y_train, cv=3, scoring='accuracy')\n",
    "print(prec1,cv_results1.mean())#Printing the precision, and accuracy scores"
   ]
  },
  {
   "cell_type": "code",
   "execution_count": 25,
   "metadata": {},
   "outputs": [
    {
     "name": "stderr",
     "output_type": "stream",
     "text": [
      "C:\\ProgramData\\Anaconda3\\lib\\site-packages\\sklearn\\linear_model\\logistic.py:469: FutureWarning: Default multi_class will be changed to 'auto' in 0.22. Specify the multi_class option to silence this warning.\n",
      "  \"this warning.\", FutureWarning)\n"
     ]
    },
    {
     "data": {
      "text/plain": [
       "LogisticRegression(C=29.763514416313132, class_weight='balanced', dual=False,\n",
       "                   fit_intercept=True, intercept_scaling=1, l1_ratio=None,\n",
       "                   max_iter=100, multi_class='warn', n_jobs=None, penalty='l2',\n",
       "                   random_state=None, solver='lbfgs', tol=0.0001, verbose=0,\n",
       "                   warm_start=False)"
      ]
     },
     "execution_count": 25,
     "metadata": {},
     "output_type": "execute_result"
    }
   ],
   "source": [
    "#Fitting the model on the training set\n",
    "log_reg.fit(X_train,y_train)\n"
   ]
  },
  {
   "cell_type": "code",
   "execution_count": 19,
   "metadata": {},
   "outputs": [],
   "source": [
    "adani = pd.read_csv('ADANIPORTS.csv')#Importing the new stock "
   ]
  },
  {
   "cell_type": "code",
   "execution_count": 20,
   "metadata": {},
   "outputs": [
    {
     "data": {
      "text/html": [
       "<div>\n",
       "<style scoped>\n",
       "    .dataframe tbody tr th:only-of-type {\n",
       "        vertical-align: middle;\n",
       "    }\n",
       "\n",
       "    .dataframe tbody tr th {\n",
       "        vertical-align: top;\n",
       "    }\n",
       "\n",
       "    .dataframe thead th {\n",
       "        text-align: right;\n",
       "    }\n",
       "</style>\n",
       "<table border=\"1\" class=\"dataframe\">\n",
       "  <thead>\n",
       "    <tr style=\"text-align: right;\">\n",
       "      <th></th>\n",
       "      <th>Symbol</th>\n",
       "      <th>Series</th>\n",
       "      <th>Date</th>\n",
       "      <th>Prev Close</th>\n",
       "      <th>Open Price</th>\n",
       "      <th>High Price</th>\n",
       "      <th>Low Price</th>\n",
       "      <th>Last Price</th>\n",
       "      <th>Close Price</th>\n",
       "      <th>Average Price</th>\n",
       "      <th>Total Traded Quantity</th>\n",
       "      <th>Turnover</th>\n",
       "      <th>No. of Trades</th>\n",
       "      <th>Deliverable Qty</th>\n",
       "      <th>% Dly Qt to Traded Qty</th>\n",
       "    </tr>\n",
       "  </thead>\n",
       "  <tbody>\n",
       "    <tr>\n",
       "      <th>0</th>\n",
       "      <td>ADANIPORTS</td>\n",
       "      <td>EQ</td>\n",
       "      <td>15-May-2017</td>\n",
       "      <td>357.95</td>\n",
       "      <td>359.00</td>\n",
       "      <td>359.75</td>\n",
       "      <td>350.85</td>\n",
       "      <td>356.00</td>\n",
       "      <td>356.20</td>\n",
       "      <td>354.78</td>\n",
       "      <td>1530781</td>\n",
       "      <td>5.430939e+08</td>\n",
       "      <td>14738</td>\n",
       "      <td>554124</td>\n",
       "      <td>36.20</td>\n",
       "    </tr>\n",
       "    <tr>\n",
       "      <th>1</th>\n",
       "      <td>ADANIPORTS</td>\n",
       "      <td>EQ</td>\n",
       "      <td>16-May-2017</td>\n",
       "      <td>356.20</td>\n",
       "      <td>354.20</td>\n",
       "      <td>358.15</td>\n",
       "      <td>351.15</td>\n",
       "      <td>353.55</td>\n",
       "      <td>354.50</td>\n",
       "      <td>354.64</td>\n",
       "      <td>1321254</td>\n",
       "      <td>4.685718e+08</td>\n",
       "      <td>24113</td>\n",
       "      <td>465010</td>\n",
       "      <td>35.19</td>\n",
       "    </tr>\n",
       "    <tr>\n",
       "      <th>2</th>\n",
       "      <td>ADANIPORTS</td>\n",
       "      <td>EQ</td>\n",
       "      <td>17-May-2017</td>\n",
       "      <td>354.50</td>\n",
       "      <td>354.50</td>\n",
       "      <td>354.80</td>\n",
       "      <td>347.55</td>\n",
       "      <td>348.95</td>\n",
       "      <td>348.55</td>\n",
       "      <td>349.74</td>\n",
       "      <td>1239867</td>\n",
       "      <td>4.336325e+08</td>\n",
       "      <td>19750</td>\n",
       "      <td>571621</td>\n",
       "      <td>46.10</td>\n",
       "    </tr>\n",
       "    <tr>\n",
       "      <th>3</th>\n",
       "      <td>ADANIPORTS</td>\n",
       "      <td>EQ</td>\n",
       "      <td>18-May-2017</td>\n",
       "      <td>348.55</td>\n",
       "      <td>344.30</td>\n",
       "      <td>359.55</td>\n",
       "      <td>342.20</td>\n",
       "      <td>348.15</td>\n",
       "      <td>347.90</td>\n",
       "      <td>350.16</td>\n",
       "      <td>3618961</td>\n",
       "      <td>1.267198e+09</td>\n",
       "      <td>76390</td>\n",
       "      <td>963959</td>\n",
       "      <td>26.64</td>\n",
       "    </tr>\n",
       "    <tr>\n",
       "      <th>4</th>\n",
       "      <td>ADANIPORTS</td>\n",
       "      <td>EQ</td>\n",
       "      <td>19-May-2017</td>\n",
       "      <td>347.90</td>\n",
       "      <td>349.05</td>\n",
       "      <td>352.50</td>\n",
       "      <td>345.30</td>\n",
       "      <td>350.45</td>\n",
       "      <td>349.45</td>\n",
       "      <td>348.91</td>\n",
       "      <td>1302961</td>\n",
       "      <td>4.546103e+08</td>\n",
       "      <td>20989</td>\n",
       "      <td>492222</td>\n",
       "      <td>37.78</td>\n",
       "    </tr>\n",
       "  </tbody>\n",
       "</table>\n",
       "</div>"
      ],
      "text/plain": [
       "       Symbol Series         Date  Prev Close  Open Price  High Price  \\\n",
       "0  ADANIPORTS     EQ  15-May-2017      357.95      359.00      359.75   \n",
       "1  ADANIPORTS     EQ  16-May-2017      356.20      354.20      358.15   \n",
       "2  ADANIPORTS     EQ  17-May-2017      354.50      354.50      354.80   \n",
       "3  ADANIPORTS     EQ  18-May-2017      348.55      344.30      359.55   \n",
       "4  ADANIPORTS     EQ  19-May-2017      347.90      349.05      352.50   \n",
       "\n",
       "   Low Price  Last Price  Close Price  Average Price  Total Traded Quantity  \\\n",
       "0     350.85      356.00       356.20         354.78                1530781   \n",
       "1     351.15      353.55       354.50         354.64                1321254   \n",
       "2     347.55      348.95       348.55         349.74                1239867   \n",
       "3     342.20      348.15       347.90         350.16                3618961   \n",
       "4     345.30      350.45       349.45         348.91                1302961   \n",
       "\n",
       "       Turnover  No. of Trades  Deliverable Qty  % Dly Qt to Traded Qty  \n",
       "0  5.430939e+08          14738           554124                   36.20  \n",
       "1  4.685718e+08          24113           465010                   35.19  \n",
       "2  4.336325e+08          19750           571621                   46.10  \n",
       "3  1.267198e+09          76390           963959                   26.64  \n",
       "4  4.546103e+08          20989           492222                   37.78  "
      ]
     },
     "execution_count": 20,
     "metadata": {},
     "output_type": "execute_result"
    }
   ],
   "source": [
    "adani.head()"
   ]
  },
  {
   "cell_type": "code",
   "execution_count": 21,
   "metadata": {},
   "outputs": [],
   "source": [
    "adani = adani[adani[\"Series\"]==\"EQ\"]"
   ]
  },
  {
   "cell_type": "code",
   "execution_count": 22,
   "metadata": {},
   "outputs": [],
   "source": [
    "#Making the bolllinger band columns for adani stock\n",
    "boll = pd.DataFrame()\n",
    "boll[\"Close\"] = adani[\"Close Price\"]\n",
    "std_dev =adani[\"Close Price\"].rolling(14,min_periods=1).std() \n",
    "boll[\"Rolling_avg\"] = adani[\"Close Price\"].rolling(14,min_periods =1).mean()#Calculating the 14 day rolling average for close price of HDFC stock\n",
    "boll[\"Upper_band\"] = boll[\"Rolling_avg\"]+2*(std_dev)#Calculating the upper band\n",
    "boll[\"Lower_band\"] = boll[\"Rolling_avg\"]-2*(std_dev)#Calculating the lower band"
   ]
  },
  {
   "cell_type": "code",
   "execution_count": 23,
   "metadata": {},
   "outputs": [
    {
     "data": {
      "text/html": [
       "<div>\n",
       "<style scoped>\n",
       "    .dataframe tbody tr th:only-of-type {\n",
       "        vertical-align: middle;\n",
       "    }\n",
       "\n",
       "    .dataframe tbody tr th {\n",
       "        vertical-align: top;\n",
       "    }\n",
       "\n",
       "    .dataframe thead th {\n",
       "        text-align: right;\n",
       "    }\n",
       "</style>\n",
       "<table border=\"1\" class=\"dataframe\">\n",
       "  <thead>\n",
       "    <tr style=\"text-align: right;\">\n",
       "      <th></th>\n",
       "      <th>Close</th>\n",
       "      <th>Rolling_avg</th>\n",
       "      <th>Upper_band</th>\n",
       "      <th>Lower_band</th>\n",
       "    </tr>\n",
       "  </thead>\n",
       "  <tbody>\n",
       "    <tr>\n",
       "      <th>0</th>\n",
       "      <td>356.20</td>\n",
       "      <td>356.200000</td>\n",
       "      <td>NaN</td>\n",
       "      <td>NaN</td>\n",
       "    </tr>\n",
       "    <tr>\n",
       "      <th>1</th>\n",
       "      <td>354.50</td>\n",
       "      <td>355.350000</td>\n",
       "      <td>357.754163</td>\n",
       "      <td>352.945837</td>\n",
       "    </tr>\n",
       "    <tr>\n",
       "      <th>2</th>\n",
       "      <td>348.55</td>\n",
       "      <td>353.083333</td>\n",
       "      <td>361.117220</td>\n",
       "      <td>345.049447</td>\n",
       "    </tr>\n",
       "    <tr>\n",
       "      <th>3</th>\n",
       "      <td>347.90</td>\n",
       "      <td>351.787500</td>\n",
       "      <td>360.147873</td>\n",
       "      <td>343.427127</td>\n",
       "    </tr>\n",
       "    <tr>\n",
       "      <th>4</th>\n",
       "      <td>349.45</td>\n",
       "      <td>351.320000</td>\n",
       "      <td>358.856113</td>\n",
       "      <td>343.783887</td>\n",
       "    </tr>\n",
       "  </tbody>\n",
       "</table>\n",
       "</div>"
      ],
      "text/plain": [
       "    Close  Rolling_avg  Upper_band  Lower_band\n",
       "0  356.20   356.200000         NaN         NaN\n",
       "1  354.50   355.350000  357.754163  352.945837\n",
       "2  348.55   353.083333  361.117220  345.049447\n",
       "3  347.90   351.787500  360.147873  343.427127\n",
       "4  349.45   351.320000  358.856113  343.783887"
      ]
     },
     "execution_count": 23,
     "metadata": {},
     "output_type": "execute_result"
    }
   ],
   "source": [
    "boll.head()"
   ]
  },
  {
   "cell_type": "code",
   "execution_count": 24,
   "metadata": {},
   "outputs": [],
   "source": [
    "#Making new column \"Call\" based on bollinger band conditions\n",
    "boll.dropna(inplace=True)\n",
    "boll[\"Call\"] = \"Buy\"\n",
    "boll.loc[( boll[\"Rolling_avg\"] > boll[\"Close\"] ) & ( boll[\"Lower_band\"] < boll[\"Close\"] ),[\"Call\"]]  = \"Hold Buy/ Liquidate Short\"\n",
    "boll.loc[boll[\"Close\"]>boll[\"Upper_band\"],[\"Call\"]] = \"Short\"\n",
    "boll.loc[ (boll[\"Rolling_avg\"] < boll[\"Close\"] ) & ( boll[\"Upper_band\"] > boll[\"Close\"] ),[\"Call\"]] = \"Hold Short/ Liquidate Buy\""
   ]
  },
  {
   "cell_type": "code",
   "execution_count": 27,
   "metadata": {},
   "outputs": [],
   "source": [
    "predicted_call_values =log_reg.predict(boll.iloc[:,:4])#Predicting the values of Call column using the previously fitted model"
   ]
  },
  {
   "cell_type": "markdown",
   "metadata": {},
   "source": [
    "**Answer 4.2**"
   ]
  },
  {
   "cell_type": "code",
   "execution_count": 28,
   "metadata": {},
   "outputs": [],
   "source": [
    "axis = pd.read_csv(\"FORTIS.csv\")#Loading new stock data"
   ]
  },
  {
   "cell_type": "code",
   "execution_count": 29,
   "metadata": {},
   "outputs": [],
   "source": [
    "axis = axis[axis[\"Series\"]==\"EQ\"]"
   ]
  },
  {
   "cell_type": "code",
   "execution_count": 30,
   "metadata": {},
   "outputs": [],
   "source": [
    "axis[\"Perc_oc\"] = ((axis[\"Open Price\"] - axis[\"Close Price\"])/axis[\"Open Price\"])*100 #Calculating percentage of open and close price in a day"
   ]
  },
  {
   "cell_type": "code",
   "execution_count": 31,
   "metadata": {},
   "outputs": [],
   "source": [
    "axis[\"Perc_hl\"] = ((axis[\"High Price\"]-axis[\"Low Price\"])/axis[\"High Price\"])*100 #Calculating percentage of high price and low price in a day"
   ]
  },
  {
   "cell_type": "code",
   "execution_count": 32,
   "metadata": {},
   "outputs": [
    {
     "data": {
      "text/html": [
       "<div>\n",
       "<style scoped>\n",
       "    .dataframe tbody tr th:only-of-type {\n",
       "        vertical-align: middle;\n",
       "    }\n",
       "\n",
       "    .dataframe tbody tr th {\n",
       "        vertical-align: top;\n",
       "    }\n",
       "\n",
       "    .dataframe thead th {\n",
       "        text-align: right;\n",
       "    }\n",
       "</style>\n",
       "<table border=\"1\" class=\"dataframe\">\n",
       "  <thead>\n",
       "    <tr style=\"text-align: right;\">\n",
       "      <th></th>\n",
       "      <th>Symbol</th>\n",
       "      <th>Series</th>\n",
       "      <th>Date</th>\n",
       "      <th>Prev Close</th>\n",
       "      <th>Open Price</th>\n",
       "      <th>High Price</th>\n",
       "      <th>Low Price</th>\n",
       "      <th>Last Price</th>\n",
       "      <th>Close Price</th>\n",
       "      <th>Average Price</th>\n",
       "      <th>Total Traded Quantity</th>\n",
       "      <th>Turnover</th>\n",
       "      <th>No. of Trades</th>\n",
       "      <th>Deliverable Qty</th>\n",
       "      <th>% Dly Qt to Traded Qty</th>\n",
       "      <th>Perc_oc</th>\n",
       "      <th>Perc_hl</th>\n",
       "    </tr>\n",
       "  </thead>\n",
       "  <tbody>\n",
       "    <tr>\n",
       "      <th>490</th>\n",
       "      <td>FORTIS</td>\n",
       "      <td>EQ</td>\n",
       "      <td>07-May-2019</td>\n",
       "      <td>136.35</td>\n",
       "      <td>136.00</td>\n",
       "      <td>136.70</td>\n",
       "      <td>135.0</td>\n",
       "      <td>135.35</td>\n",
       "      <td>135.2</td>\n",
       "      <td>135.94</td>\n",
       "      <td>165465</td>\n",
       "      <td>2.249316e+07</td>\n",
       "      <td>865</td>\n",
       "      <td>99695</td>\n",
       "      <td>60.25</td>\n",
       "      <td>0.588235</td>\n",
       "      <td>1.243599</td>\n",
       "    </tr>\n",
       "    <tr>\n",
       "      <th>491</th>\n",
       "      <td>FORTIS</td>\n",
       "      <td>EQ</td>\n",
       "      <td>08-May-2019</td>\n",
       "      <td>135.20</td>\n",
       "      <td>135.35</td>\n",
       "      <td>135.75</td>\n",
       "      <td>133.3</td>\n",
       "      <td>133.50</td>\n",
       "      <td>133.6</td>\n",
       "      <td>134.16</td>\n",
       "      <td>377871</td>\n",
       "      <td>5.069361e+07</td>\n",
       "      <td>2454</td>\n",
       "      <td>246366</td>\n",
       "      <td>65.20</td>\n",
       "      <td>1.292944</td>\n",
       "      <td>1.804788</td>\n",
       "    </tr>\n",
       "    <tr>\n",
       "      <th>492</th>\n",
       "      <td>FORTIS</td>\n",
       "      <td>EQ</td>\n",
       "      <td>09-May-2019</td>\n",
       "      <td>133.60</td>\n",
       "      <td>133.60</td>\n",
       "      <td>133.75</td>\n",
       "      <td>132.3</td>\n",
       "      <td>133.05</td>\n",
       "      <td>133.0</td>\n",
       "      <td>132.89</td>\n",
       "      <td>959494</td>\n",
       "      <td>1.275065e+08</td>\n",
       "      <td>7299</td>\n",
       "      <td>798500</td>\n",
       "      <td>83.22</td>\n",
       "      <td>0.449102</td>\n",
       "      <td>1.084112</td>\n",
       "    </tr>\n",
       "    <tr>\n",
       "      <th>493</th>\n",
       "      <td>FORTIS</td>\n",
       "      <td>EQ</td>\n",
       "      <td>10-May-2019</td>\n",
       "      <td>133.00</td>\n",
       "      <td>133.05</td>\n",
       "      <td>133.60</td>\n",
       "      <td>131.0</td>\n",
       "      <td>131.50</td>\n",
       "      <td>131.9</td>\n",
       "      <td>132.55</td>\n",
       "      <td>868778</td>\n",
       "      <td>1.151553e+08</td>\n",
       "      <td>3592</td>\n",
       "      <td>658577</td>\n",
       "      <td>75.80</td>\n",
       "      <td>0.864337</td>\n",
       "      <td>1.946108</td>\n",
       "    </tr>\n",
       "    <tr>\n",
       "      <th>494</th>\n",
       "      <td>FORTIS</td>\n",
       "      <td>EQ</td>\n",
       "      <td>13-May-2019</td>\n",
       "      <td>131.90</td>\n",
       "      <td>131.10</td>\n",
       "      <td>132.05</td>\n",
       "      <td>129.2</td>\n",
       "      <td>129.80</td>\n",
       "      <td>129.7</td>\n",
       "      <td>130.51</td>\n",
       "      <td>412786</td>\n",
       "      <td>5.387083e+07</td>\n",
       "      <td>2896</td>\n",
       "      <td>322608</td>\n",
       "      <td>78.15</td>\n",
       "      <td>1.067887</td>\n",
       "      <td>2.158273</td>\n",
       "    </tr>\n",
       "  </tbody>\n",
       "</table>\n",
       "</div>"
      ],
      "text/plain": [
       "     Symbol Series         Date  Prev Close  Open Price  High Price  \\\n",
       "490  FORTIS     EQ  07-May-2019      136.35      136.00      136.70   \n",
       "491  FORTIS     EQ  08-May-2019      135.20      135.35      135.75   \n",
       "492  FORTIS     EQ  09-May-2019      133.60      133.60      133.75   \n",
       "493  FORTIS     EQ  10-May-2019      133.00      133.05      133.60   \n",
       "494  FORTIS     EQ  13-May-2019      131.90      131.10      132.05   \n",
       "\n",
       "     Low Price      Last Price  Close Price  Average Price  \\\n",
       "490      135.0          135.35        135.2         135.94   \n",
       "491      133.3          133.50        133.6         134.16   \n",
       "492      132.3          133.05        133.0         132.89   \n",
       "493      131.0          131.50        131.9         132.55   \n",
       "494      129.2          129.80        129.7         130.51   \n",
       "\n",
       "     Total Traded Quantity      Turnover  No. of Trades  Deliverable Qty  \\\n",
       "490                 165465  2.249316e+07            865            99695   \n",
       "491                 377871  5.069361e+07           2454           246366   \n",
       "492                 959494  1.275065e+08           7299           798500   \n",
       "493                 868778  1.151553e+08           3592           658577   \n",
       "494                 412786  5.387083e+07           2896           322608   \n",
       "\n",
       "     % Dly Qt to Traded Qty   Perc_oc   Perc_hl  \n",
       "490                   60.25  0.588235  1.243599  \n",
       "491                   65.20  1.292944  1.804788  \n",
       "492                   83.22  0.449102  1.084112  \n",
       "493                   75.80  0.864337  1.946108  \n",
       "494                   78.15  1.067887  2.158273  "
      ]
     },
     "execution_count": 32,
     "metadata": {},
     "output_type": "execute_result"
    }
   ],
   "source": [
    "axis.tail()"
   ]
  },
  {
   "cell_type": "code",
   "execution_count": 33,
   "metadata": {},
   "outputs": [],
   "source": [
    "#Setting date column as index\n",
    "axis['Date'] = pd.to_datetime(axis[\"Date\"])\n",
    "axis.set_index(\"Date\",inplace=True)"
   ]
  },
  {
   "cell_type": "code",
   "execution_count": 34,
   "metadata": {},
   "outputs": [
    {
     "name": "stderr",
     "output_type": "stream",
     "text": [
      "C:\\ProgramData\\Anaconda3\\lib\\site-packages\\ipykernel_launcher.py:2: SettingWithCopyWarning: \n",
      "A value is trying to be set on a copy of a slice from a DataFrame\n",
      "\n",
      "See the caveats in the documentation: http://pandas.pydata.org/pandas-docs/stable/indexing.html#indexing-view-versus-copy\n",
      "  \n"
     ]
    }
   ],
   "source": [
    "#Calculating Day percent change\n",
    "axis[\"Day_perc\"] = axis[\"Close Price\"].pct_change()*100\n",
    "axis[\"Day_perc\"][0]=0"
   ]
  },
  {
   "cell_type": "code",
   "execution_count": 35,
   "metadata": {},
   "outputs": [
    {
     "name": "stderr",
     "output_type": "stream",
     "text": [
      "C:\\ProgramData\\Anaconda3\\lib\\site-packages\\ipykernel_launcher.py:2: SettingWithCopyWarning: \n",
      "A value is trying to be set on a copy of a slice from a DataFrame\n",
      "\n",
      "See the caveats in the documentation: http://pandas.pydata.org/pandas-docs/stable/indexing.html#indexing-view-versus-copy\n",
      "  \n"
     ]
    }
   ],
   "source": [
    "#Calculating Rolling std\n",
    "axis[\"Rolling_std\"] = axis[\"Day_perc\"].rolling(5,min_periods=1).std()\n",
    "axis[\"Rolling_std\"][0]= 0"
   ]
  },
  {
   "cell_type": "code",
   "execution_count": 36,
   "metadata": {},
   "outputs": [],
   "source": [
    "axis[\"Rolling_mean\"]= axis[\"Day_perc\"].rolling(5,min_periods=1).mean()#Calculating rolling mean"
   ]
  },
  {
   "cell_type": "code",
   "execution_count": 37,
   "metadata": {},
   "outputs": [
    {
     "data": {
      "text/html": [
       "<div>\n",
       "<style scoped>\n",
       "    .dataframe tbody tr th:only-of-type {\n",
       "        vertical-align: middle;\n",
       "    }\n",
       "\n",
       "    .dataframe tbody tr th {\n",
       "        vertical-align: top;\n",
       "    }\n",
       "\n",
       "    .dataframe thead th {\n",
       "        text-align: right;\n",
       "    }\n",
       "</style>\n",
       "<table border=\"1\" class=\"dataframe\">\n",
       "  <thead>\n",
       "    <tr style=\"text-align: right;\">\n",
       "      <th></th>\n",
       "      <th>Symbol</th>\n",
       "      <th>Series</th>\n",
       "      <th>Prev Close</th>\n",
       "      <th>Open Price</th>\n",
       "      <th>High Price</th>\n",
       "      <th>Low Price</th>\n",
       "      <th>Last Price</th>\n",
       "      <th>Close Price</th>\n",
       "      <th>Average Price</th>\n",
       "      <th>Total Traded Quantity</th>\n",
       "      <th>Turnover</th>\n",
       "      <th>No. of Trades</th>\n",
       "      <th>Deliverable Qty</th>\n",
       "      <th>% Dly Qt to Traded Qty</th>\n",
       "      <th>Perc_oc</th>\n",
       "      <th>Perc_hl</th>\n",
       "      <th>Day_perc</th>\n",
       "      <th>Rolling_std</th>\n",
       "      <th>Rolling_mean</th>\n",
       "    </tr>\n",
       "    <tr>\n",
       "      <th>Date</th>\n",
       "      <th></th>\n",
       "      <th></th>\n",
       "      <th></th>\n",
       "      <th></th>\n",
       "      <th></th>\n",
       "      <th></th>\n",
       "      <th></th>\n",
       "      <th></th>\n",
       "      <th></th>\n",
       "      <th></th>\n",
       "      <th></th>\n",
       "      <th></th>\n",
       "      <th></th>\n",
       "      <th></th>\n",
       "      <th></th>\n",
       "      <th></th>\n",
       "      <th></th>\n",
       "      <th></th>\n",
       "      <th></th>\n",
       "    </tr>\n",
       "  </thead>\n",
       "  <tbody>\n",
       "    <tr>\n",
       "      <th>2017-05-15</th>\n",
       "      <td>FORTIS</td>\n",
       "      <td>EQ</td>\n",
       "      <td>208.40</td>\n",
       "      <td>208.40</td>\n",
       "      <td>209.65</td>\n",
       "      <td>204.05</td>\n",
       "      <td>206.75</td>\n",
       "      <td>205.25</td>\n",
       "      <td>205.66</td>\n",
       "      <td>9078354</td>\n",
       "      <td>1.867055e+09</td>\n",
       "      <td>24607</td>\n",
       "      <td>5980115</td>\n",
       "      <td>65.87</td>\n",
       "      <td>1.511516</td>\n",
       "      <td>2.671119</td>\n",
       "      <td>0.000000</td>\n",
       "      <td>0.000000</td>\n",
       "      <td>0.000000</td>\n",
       "    </tr>\n",
       "    <tr>\n",
       "      <th>2017-05-16</th>\n",
       "      <td>FORTIS</td>\n",
       "      <td>EQ</td>\n",
       "      <td>205.25</td>\n",
       "      <td>206.25</td>\n",
       "      <td>209.45</td>\n",
       "      <td>205.45</td>\n",
       "      <td>207.70</td>\n",
       "      <td>207.90</td>\n",
       "      <td>207.86</td>\n",
       "      <td>2146212</td>\n",
       "      <td>4.461109e+08</td>\n",
       "      <td>15071</td>\n",
       "      <td>1127662</td>\n",
       "      <td>52.54</td>\n",
       "      <td>-0.800000</td>\n",
       "      <td>1.909764</td>\n",
       "      <td>1.291108</td>\n",
       "      <td>0.912952</td>\n",
       "      <td>0.645554</td>\n",
       "    </tr>\n",
       "    <tr>\n",
       "      <th>2017-05-17</th>\n",
       "      <td>FORTIS</td>\n",
       "      <td>EQ</td>\n",
       "      <td>207.90</td>\n",
       "      <td>208.00</td>\n",
       "      <td>210.80</td>\n",
       "      <td>204.90</td>\n",
       "      <td>205.30</td>\n",
       "      <td>205.90</td>\n",
       "      <td>208.01</td>\n",
       "      <td>3032479</td>\n",
       "      <td>6.307854e+08</td>\n",
       "      <td>21453</td>\n",
       "      <td>1609171</td>\n",
       "      <td>53.06</td>\n",
       "      <td>1.009615</td>\n",
       "      <td>2.798861</td>\n",
       "      <td>-0.962001</td>\n",
       "      <td>1.130554</td>\n",
       "      <td>0.109702</td>\n",
       "    </tr>\n",
       "    <tr>\n",
       "      <th>2017-05-18</th>\n",
       "      <td>FORTIS</td>\n",
       "      <td>EQ</td>\n",
       "      <td>205.90</td>\n",
       "      <td>204.00</td>\n",
       "      <td>205.25</td>\n",
       "      <td>195.00</td>\n",
       "      <td>195.80</td>\n",
       "      <td>196.85</td>\n",
       "      <td>200.05</td>\n",
       "      <td>2852401</td>\n",
       "      <td>5.706199e+08</td>\n",
       "      <td>18709</td>\n",
       "      <td>1337328</td>\n",
       "      <td>46.88</td>\n",
       "      <td>3.504902</td>\n",
       "      <td>4.993910</td>\n",
       "      <td>-4.395338</td>\n",
       "      <td>2.434327</td>\n",
       "      <td>-1.016558</td>\n",
       "    </tr>\n",
       "    <tr>\n",
       "      <th>2017-05-19</th>\n",
       "      <td>FORTIS</td>\n",
       "      <td>EQ</td>\n",
       "      <td>196.85</td>\n",
       "      <td>197.80</td>\n",
       "      <td>204.90</td>\n",
       "      <td>196.45</td>\n",
       "      <td>204.20</td>\n",
       "      <td>203.55</td>\n",
       "      <td>200.95</td>\n",
       "      <td>4144993</td>\n",
       "      <td>8.329173e+08</td>\n",
       "      <td>37949</td>\n",
       "      <td>1424440</td>\n",
       "      <td>34.37</td>\n",
       "      <td>-2.906977</td>\n",
       "      <td>4.123963</td>\n",
       "      <td>3.403607</td>\n",
       "      <td>2.889988</td>\n",
       "      <td>-0.132525</td>\n",
       "    </tr>\n",
       "  </tbody>\n",
       "</table>\n",
       "</div>"
      ],
      "text/plain": [
       "            Symbol Series  Prev Close  Open Price  High Price  Low Price  \\\n",
       "Date                                                                       \n",
       "2017-05-15  FORTIS     EQ      208.40      208.40      209.65     204.05   \n",
       "2017-05-16  FORTIS     EQ      205.25      206.25      209.45     205.45   \n",
       "2017-05-17  FORTIS     EQ      207.90      208.00      210.80     204.90   \n",
       "2017-05-18  FORTIS     EQ      205.90      204.00      205.25     195.00   \n",
       "2017-05-19  FORTIS     EQ      196.85      197.80      204.90     196.45   \n",
       "\n",
       "                Last Price  Close Price  Average Price  Total Traded Quantity  \\\n",
       "Date                                                                            \n",
       "2017-05-15          206.75       205.25         205.66                9078354   \n",
       "2017-05-16          207.70       207.90         207.86                2146212   \n",
       "2017-05-17          205.30       205.90         208.01                3032479   \n",
       "2017-05-18          195.80       196.85         200.05                2852401   \n",
       "2017-05-19          204.20       203.55         200.95                4144993   \n",
       "\n",
       "                Turnover  No. of Trades  Deliverable Qty  \\\n",
       "Date                                                       \n",
       "2017-05-15  1.867055e+09          24607          5980115   \n",
       "2017-05-16  4.461109e+08          15071          1127662   \n",
       "2017-05-17  6.307854e+08          21453          1609171   \n",
       "2017-05-18  5.706199e+08          18709          1337328   \n",
       "2017-05-19  8.329173e+08          37949          1424440   \n",
       "\n",
       "            % Dly Qt to Traded Qty   Perc_oc   Perc_hl  Day_perc  Rolling_std  \\\n",
       "Date                                                                            \n",
       "2017-05-15                   65.87  1.511516  2.671119  0.000000     0.000000   \n",
       "2017-05-16                   52.54 -0.800000  1.909764  1.291108     0.912952   \n",
       "2017-05-17                   53.06  1.009615  2.798861 -0.962001     1.130554   \n",
       "2017-05-18                   46.88  3.504902  4.993910 -4.395338     2.434327   \n",
       "2017-05-19                   34.37 -2.906977  4.123963  3.403607     2.889988   \n",
       "\n",
       "            Rolling_mean  \n",
       "Date                      \n",
       "2017-05-15      0.000000  \n",
       "2017-05-16      0.645554  \n",
       "2017-05-17      0.109702  \n",
       "2017-05-18     -1.016558  \n",
       "2017-05-19     -0.132525  "
      ]
     },
     "execution_count": 37,
     "metadata": {},
     "output_type": "execute_result"
    }
   ],
   "source": [
    "axis.head()"
   ]
  },
  {
   "cell_type": "code",
   "execution_count": 38,
   "metadata": {},
   "outputs": [],
   "source": [
    "axis.reset_index(inplace=True)#Resetting the index"
   ]
  },
  {
   "cell_type": "code",
   "execution_count": 39,
   "metadata": {},
   "outputs": [
    {
     "name": "stderr",
     "output_type": "stream",
     "text": [
      "C:\\ProgramData\\Anaconda3\\lib\\site-packages\\ipykernel_launcher.py:5: SettingWithCopyWarning: \n",
      "A value is trying to be set on a copy of a slice from a DataFrame\n",
      "\n",
      "See the caveats in the documentation: http://pandas.pydata.org/pandas-docs/stable/indexing.html#indexing-view-versus-copy\n",
      "  \"\"\"\n"
     ]
    },
    {
     "name": "stdout",
     "output_type": "stream",
     "text": [
      "Element Exceeded\n"
     ]
    }
   ],
   "source": [
    "#Making a new column Action and calculating it based on close price\n",
    "axis[\"Action\"] = 1\n",
    "for i in range(494):\n",
    "    try:\n",
    "        if(axis[\"Close Price\"][i+1]<axis[\"Close Price\"][i]):\n",
    "            axis[\"Action\"][i] = -1 \n",
    "        \n",
    "    except KeyError:\n",
    "        print(\"Element Exceeded\")\n",
    "    "
   ]
  },
  {
   "cell_type": "code",
   "execution_count": 40,
   "metadata": {},
   "outputs": [
    {
     "data": {
      "text/html": [
       "<div>\n",
       "<style scoped>\n",
       "    .dataframe tbody tr th:only-of-type {\n",
       "        vertical-align: middle;\n",
       "    }\n",
       "\n",
       "    .dataframe tbody tr th {\n",
       "        vertical-align: top;\n",
       "    }\n",
       "\n",
       "    .dataframe thead th {\n",
       "        text-align: right;\n",
       "    }\n",
       "</style>\n",
       "<table border=\"1\" class=\"dataframe\">\n",
       "  <thead>\n",
       "    <tr style=\"text-align: right;\">\n",
       "      <th></th>\n",
       "      <th>Date</th>\n",
       "      <th>Symbol</th>\n",
       "      <th>Series</th>\n",
       "      <th>Prev Close</th>\n",
       "      <th>Open Price</th>\n",
       "      <th>High Price</th>\n",
       "      <th>Low Price</th>\n",
       "      <th>Last Price</th>\n",
       "      <th>Close Price</th>\n",
       "      <th>Average Price</th>\n",
       "      <th>...</th>\n",
       "      <th>Turnover</th>\n",
       "      <th>No. of Trades</th>\n",
       "      <th>Deliverable Qty</th>\n",
       "      <th>% Dly Qt to Traded Qty</th>\n",
       "      <th>Perc_oc</th>\n",
       "      <th>Perc_hl</th>\n",
       "      <th>Day_perc</th>\n",
       "      <th>Rolling_std</th>\n",
       "      <th>Rolling_mean</th>\n",
       "      <th>Action</th>\n",
       "    </tr>\n",
       "  </thead>\n",
       "  <tbody>\n",
       "    <tr>\n",
       "      <th>489</th>\n",
       "      <td>2019-05-07</td>\n",
       "      <td>FORTIS</td>\n",
       "      <td>EQ</td>\n",
       "      <td>136.35</td>\n",
       "      <td>136.00</td>\n",
       "      <td>136.70</td>\n",
       "      <td>135.0</td>\n",
       "      <td>135.35</td>\n",
       "      <td>135.2</td>\n",
       "      <td>135.94</td>\n",
       "      <td>...</td>\n",
       "      <td>2.249316e+07</td>\n",
       "      <td>865</td>\n",
       "      <td>99695</td>\n",
       "      <td>60.25</td>\n",
       "      <td>0.588235</td>\n",
       "      <td>1.243599</td>\n",
       "      <td>-0.843418</td>\n",
       "      <td>0.372846</td>\n",
       "      <td>-0.566585</td>\n",
       "      <td>-1</td>\n",
       "    </tr>\n",
       "    <tr>\n",
       "      <th>490</th>\n",
       "      <td>2019-05-08</td>\n",
       "      <td>FORTIS</td>\n",
       "      <td>EQ</td>\n",
       "      <td>135.20</td>\n",
       "      <td>135.35</td>\n",
       "      <td>135.75</td>\n",
       "      <td>133.3</td>\n",
       "      <td>133.50</td>\n",
       "      <td>133.6</td>\n",
       "      <td>134.16</td>\n",
       "      <td>...</td>\n",
       "      <td>5.069361e+07</td>\n",
       "      <td>2454</td>\n",
       "      <td>246366</td>\n",
       "      <td>65.20</td>\n",
       "      <td>1.292944</td>\n",
       "      <td>1.804788</td>\n",
       "      <td>-1.183432</td>\n",
       "      <td>0.442451</td>\n",
       "      <td>-0.724192</td>\n",
       "      <td>-1</td>\n",
       "    </tr>\n",
       "    <tr>\n",
       "      <th>491</th>\n",
       "      <td>2019-05-09</td>\n",
       "      <td>FORTIS</td>\n",
       "      <td>EQ</td>\n",
       "      <td>133.60</td>\n",
       "      <td>133.60</td>\n",
       "      <td>133.75</td>\n",
       "      <td>132.3</td>\n",
       "      <td>133.05</td>\n",
       "      <td>133.0</td>\n",
       "      <td>132.89</td>\n",
       "      <td>...</td>\n",
       "      <td>1.275065e+08</td>\n",
       "      <td>7299</td>\n",
       "      <td>798500</td>\n",
       "      <td>83.22</td>\n",
       "      <td>0.449102</td>\n",
       "      <td>1.084112</td>\n",
       "      <td>-0.449102</td>\n",
       "      <td>0.450043</td>\n",
       "      <td>-0.712966</td>\n",
       "      <td>-1</td>\n",
       "    </tr>\n",
       "    <tr>\n",
       "      <th>492</th>\n",
       "      <td>2019-05-10</td>\n",
       "      <td>FORTIS</td>\n",
       "      <td>EQ</td>\n",
       "      <td>133.00</td>\n",
       "      <td>133.05</td>\n",
       "      <td>133.60</td>\n",
       "      <td>131.0</td>\n",
       "      <td>131.50</td>\n",
       "      <td>131.9</td>\n",
       "      <td>132.55</td>\n",
       "      <td>...</td>\n",
       "      <td>1.151553e+08</td>\n",
       "      <td>3592</td>\n",
       "      <td>658577</td>\n",
       "      <td>75.80</td>\n",
       "      <td>0.864337</td>\n",
       "      <td>1.946108</td>\n",
       "      <td>-0.827068</td>\n",
       "      <td>0.273482</td>\n",
       "      <td>-0.863871</td>\n",
       "      <td>-1</td>\n",
       "    </tr>\n",
       "    <tr>\n",
       "      <th>493</th>\n",
       "      <td>2019-05-13</td>\n",
       "      <td>FORTIS</td>\n",
       "      <td>EQ</td>\n",
       "      <td>131.90</td>\n",
       "      <td>131.10</td>\n",
       "      <td>132.05</td>\n",
       "      <td>129.2</td>\n",
       "      <td>129.80</td>\n",
       "      <td>129.7</td>\n",
       "      <td>130.51</td>\n",
       "      <td>...</td>\n",
       "      <td>5.387083e+07</td>\n",
       "      <td>2896</td>\n",
       "      <td>322608</td>\n",
       "      <td>78.15</td>\n",
       "      <td>1.067887</td>\n",
       "      <td>2.158273</td>\n",
       "      <td>-1.667930</td>\n",
       "      <td>0.457581</td>\n",
       "      <td>-0.994190</td>\n",
       "      <td>1</td>\n",
       "    </tr>\n",
       "  </tbody>\n",
       "</table>\n",
       "<p>5 rows × 21 columns</p>\n",
       "</div>"
      ],
      "text/plain": [
       "          Date  Symbol Series  Prev Close  Open Price  High Price  Low Price  \\\n",
       "489 2019-05-07  FORTIS     EQ      136.35      136.00      136.70      135.0   \n",
       "490 2019-05-08  FORTIS     EQ      135.20      135.35      135.75      133.3   \n",
       "491 2019-05-09  FORTIS     EQ      133.60      133.60      133.75      132.3   \n",
       "492 2019-05-10  FORTIS     EQ      133.00      133.05      133.60      131.0   \n",
       "493 2019-05-13  FORTIS     EQ      131.90      131.10      132.05      129.2   \n",
       "\n",
       "         Last Price  Close Price  Average Price   ...        Turnover  \\\n",
       "489          135.35        135.2         135.94   ...    2.249316e+07   \n",
       "490          133.50        133.6         134.16   ...    5.069361e+07   \n",
       "491          133.05        133.0         132.89   ...    1.275065e+08   \n",
       "492          131.50        131.9         132.55   ...    1.151553e+08   \n",
       "493          129.80        129.7         130.51   ...    5.387083e+07   \n",
       "\n",
       "     No. of Trades  Deliverable Qty  % Dly Qt to Traded Qty   Perc_oc  \\\n",
       "489            865            99695                   60.25  0.588235   \n",
       "490           2454           246366                   65.20  1.292944   \n",
       "491           7299           798500                   83.22  0.449102   \n",
       "492           3592           658577                   75.80  0.864337   \n",
       "493           2896           322608                   78.15  1.067887   \n",
       "\n",
       "      Perc_hl  Day_perc  Rolling_std  Rolling_mean  Action  \n",
       "489  1.243599 -0.843418     0.372846     -0.566585      -1  \n",
       "490  1.804788 -1.183432     0.442451     -0.724192      -1  \n",
       "491  1.084112 -0.449102     0.450043     -0.712966      -1  \n",
       "492  1.946108 -0.827068     0.273482     -0.863871      -1  \n",
       "493  2.158273 -1.667930     0.457581     -0.994190       1  \n",
       "\n",
       "[5 rows x 21 columns]"
      ]
     },
     "execution_count": 40,
     "metadata": {},
     "output_type": "execute_result"
    }
   ],
   "source": [
    "axis.tail()"
   ]
  },
  {
   "cell_type": "code",
   "execution_count": 41,
   "metadata": {},
   "outputs": [],
   "source": [
    "axis.drop(axis.index[493],inplace=True)"
   ]
  },
  {
   "cell_type": "code",
   "execution_count": 42,
   "metadata": {},
   "outputs": [],
   "source": [
    "cls = RandomForestClassifier()# Intialising a RandomForest Classifier"
   ]
  },
  {
   "cell_type": "code",
   "execution_count": 43,
   "metadata": {},
   "outputs": [
    {
     "data": {
      "text/plain": [
       "array([[-0.41440413, -0.60044243, -0.73893269,  0.60868708],\n",
       "       [ 0.31150607, -0.25329968, -0.60571652,  0.14043009],\n",
       "       [ 1.31246684,  0.6037434 ,  0.19245446, -0.84375844],\n",
       "       ...,\n",
       "       [ 0.42516077, -0.64142945, -1.02697319, -0.58827303],\n",
       "       [ 0.08666132, -0.92281297, -1.02232569, -0.57846296],\n",
       "       [ 0.2532289 , -0.5862521 , -1.13041616, -0.71033213]])"
      ]
     },
     "execution_count": 43,
     "metadata": {},
     "output_type": "execute_result"
    }
   ],
   "source": [
    "#Initialising and Scaling values\n",
    "X = axis[[\"Perc_oc\",\"Perc_hl\",\"Rolling_std\",\"Rolling_mean\"]].iloc[1:]\n",
    "Y = axis[\"Action\"].iloc[1:]\n",
    "scaler = StandardScaler()\n",
    "scaled_data = scaler.fit_transform(X)\n",
    "scaled_data"
   ]
  },
  {
   "cell_type": "code",
   "execution_count": 44,
   "metadata": {},
   "outputs": [],
   "source": [
    "X_train, X_test, y_train, y_test = train_test_split(scaled_data,Y, test_size=0.2, random_state=42)#Splitting the values into training and testing data"
   ]
  },
  {
   "cell_type": "code",
   "execution_count": 45,
   "metadata": {},
   "outputs": [
    {
     "name": "stdout",
     "output_type": "stream",
     "text": [
      "0.5318066157760815 0.5623409669211196 0.021888868363976143\n"
     ]
    },
    {
     "name": "stderr",
     "output_type": "stream",
     "text": [
      "C:\\ProgramData\\Anaconda3\\lib\\site-packages\\sklearn\\ensemble\\forest.py:245: FutureWarning: The default value of n_estimators will change from 10 in version 0.20 to 100 in 0.22.\n",
      "  \"10 in version 0.20 to 100 in 0.22.\", FutureWarning)\n",
      "C:\\ProgramData\\Anaconda3\\lib\\site-packages\\sklearn\\ensemble\\forest.py:245: FutureWarning: The default value of n_estimators will change from 10 in version 0.20 to 100 in 0.22.\n",
      "  \"10 in version 0.20 to 100 in 0.22.\", FutureWarning)\n",
      "C:\\ProgramData\\Anaconda3\\lib\\site-packages\\sklearn\\ensemble\\forest.py:245: FutureWarning: The default value of n_estimators will change from 10 in version 0.20 to 100 in 0.22.\n",
      "  \"10 in version 0.20 to 100 in 0.22.\", FutureWarning)\n",
      "C:\\ProgramData\\Anaconda3\\lib\\site-packages\\sklearn\\ensemble\\forest.py:245: FutureWarning: The default value of n_estimators will change from 10 in version 0.20 to 100 in 0.22.\n",
      "  \"10 in version 0.20 to 100 in 0.22.\", FutureWarning)\n",
      "C:\\ProgramData\\Anaconda3\\lib\\site-packages\\sklearn\\ensemble\\forest.py:245: FutureWarning: The default value of n_estimators will change from 10 in version 0.20 to 100 in 0.22.\n",
      "  \"10 in version 0.20 to 100 in 0.22.\", FutureWarning)\n",
      "C:\\ProgramData\\Anaconda3\\lib\\site-packages\\sklearn\\ensemble\\forest.py:245: FutureWarning: The default value of n_estimators will change from 10 in version 0.20 to 100 in 0.22.\n",
      "  \"10 in version 0.20 to 100 in 0.22.\", FutureWarning)\n"
     ]
    }
   ],
   "source": [
    "kfold = model_selection.KFold(n_splits=3, random_state=7)\n",
    "cv_results = model_selection.cross_val_score(cls, X_train, y_train, cv=kfold, scoring='accuracy')\n",
    "y_train_pred = cross_val_predict(cls,X_train,y_train,cv=kfold)#Predicting the values\n",
    "prec = precision_score(y_train,y_train_pred,average = 'micro')#Calculating precision\n",
    "without_scale1 = cv_results.mean()#Calculating accuracy\n",
    "without_scale2 = prec\n",
    "print(prec,cv_results.mean(),cv_results.std())#Printing the precision and accuracy of the model"
   ]
  },
  {
   "cell_type": "code",
   "execution_count": 46,
   "metadata": {},
   "outputs": [],
   "source": [
    "cls1 = RandomForestClassifier(bootstrap=False, criterion='gini', max_depth=20, max_features='sqrt', min_samples_leaf=1,min_samples_split=2, n_estimators=400)"
   ]
  },
  {
   "cell_type": "code",
   "execution_count": 49,
   "metadata": {},
   "outputs": [
    {
     "name": "stdout",
     "output_type": "stream",
     "text": [
      "0.5521628498727735 0.5521628498727735 0.007197015584595915\n"
     ]
    }
   ],
   "source": [
    "kfold = model_selection.KFold(n_splits=3, random_state=7)\n",
    "cv_results = cross_val_score(cls1, X_train, y_train, cv=kfold, scoring='accuracy')\n",
    "y_train_pred = cross_val_predict(cls1,X_train,y_train,cv=kfold) #Predicting the values\n",
    "prec = precision_score(y_train,y_train_pred,average = 'micro') #Calculating precision\n",
    "without_scale1 = cv_results.mean() #Calculating accuracy\n",
    "without_scale2 = prec\n",
    "print(prec,cv_results.mean(),cv_results.std())#Printing the precision and accuracy on new model with different parameters"
   ]
  },
  {
   "cell_type": "code",
   "execution_count": 50,
   "metadata": {},
   "outputs": [],
   "source": [
    "cumu_ret = (axis[\"Day_perc\"]+1).cumprod() - 1 #Calculating cumulative returns"
   ]
  },
  {
   "cell_type": "code",
   "execution_count": 51,
   "metadata": {},
   "outputs": [
    {
     "data": {
      "text/plain": [
       "488   -7.544116e+28\n",
       "489   -1.181275e+28\n",
       "490    2.166836e+27\n",
       "491    1.193706e+27\n",
       "492    2.064304e+26\n",
       "Name: Day_perc, dtype: float64"
      ]
     },
     "execution_count": 51,
     "metadata": {},
     "output_type": "execute_result"
    }
   ],
   "source": [
    "cumu_ret.tail()"
   ]
  },
  {
   "cell_type": "code",
   "execution_count": 52,
   "metadata": {},
   "outputs": [
    {
     "data": {
      "text/plain": [
       "[<matplotlib.lines.Line2D at 0x197002be5c0>]"
      ]
     },
     "execution_count": 52,
     "metadata": {},
     "output_type": "execute_result"
    },
    {
     "data": {
      "image/png": "[encoded data removed]",
      "text/plain": [
       "<matplotlib.figure.Figure at 0x19700295438>"
      ]
     },
     "metadata": {},
     "output_type": "display_data"
    }
   ],
   "source": [
    "plt.figure(figsize=(20,15))\n",
    "plt.plot(cumu_ret) #Plotting the cumulative returns"
   ]
  },
  {
   "cell_type": "code",
   "execution_count": null,
   "metadata": {},
   "outputs": [],
   "source": []
  }
 ],
 "metadata": {
  "kernelspec": {
   "display_name": "Python 3",
   "language": "python",
   "name": "python3"
  },
  "language_info": {
   "codemirror_mode": {
    "name": "ipython",
    "version": 3
   },
   "file_extension": ".py",
   "mimetype": "text/x-python",
   "name": "python",
   "nbconvert_exporter": "python",
   "pygments_lexer": "ipython3",
   "version": "3.6.4"
  }
 },
 "nbformat": 4,
 "nbformat_minor": 2
}
