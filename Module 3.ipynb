{
 "cells": [
  {
   "cell_type": "markdown",
   "metadata": {},
   "source": [
    "**Answer 1**"
   ]
  },
  {
   "cell_type": "code",
   "execution_count": 89,
   "metadata": {},
   "outputs": [],
   "source": [
    "import pandas as pd\n",
    "from datetime import datetime\n",
    "import numpy as np\n",
    "import matplotlib.pyplot as plt\n",
    "import seaborn as sns\n",
    "from sklearn.model_selection import train_test_split\n",
    "from sklearn.metrics import mean_squared_error,r2_score\n",
    "from sklearn.preprocessing import PolynomialFeatures \n",
    "from sklearn import linear_model"
   ]
  },
  {
   "cell_type": "code",
   "execution_count": 90,
   "metadata": {},
   "outputs": [],
   "source": [
    "gold = pd.read_csv(\"GOLD.csv\")# Importing gold.csv"
   ]
  },
  {
   "cell_type": "code",
   "execution_count": 91,
   "metadata": {},
   "outputs": [
    {
     "data": {
      "text/html": [
       "<div>\n",
       "<style scoped>\n",
       "    .dataframe tbody tr th:only-of-type {\n",
       "        vertical-align: middle;\n",
       "    }\n",
       "\n",
       "    .dataframe tbody tr th {\n",
       "        vertical-align: top;\n",
       "    }\n",
       "\n",
       "    .dataframe thead th {\n",
       "        text-align: right;\n",
       "    }\n",
       "</style>\n",
       "<table border=\"1\" class=\"dataframe\">\n",
       "  <thead>\n",
       "    <tr style=\"text-align: right;\">\n",
       "      <th></th>\n",
       "      <th>Date</th>\n",
       "      <th>Price</th>\n",
       "      <th>Open</th>\n",
       "      <th>High</th>\n",
       "      <th>Low</th>\n",
       "      <th>Vol.</th>\n",
       "      <th>Change %</th>\n",
       "      <th>Pred</th>\n",
       "      <th>new</th>\n",
       "    </tr>\n",
       "  </thead>\n",
       "  <tbody>\n",
       "    <tr>\n",
       "      <th>0</th>\n",
       "      <td>May 04, 2017</td>\n",
       "      <td>28060</td>\n",
       "      <td>28400</td>\n",
       "      <td>28482</td>\n",
       "      <td>28025</td>\n",
       "      <td>0.08K</td>\n",
       "      <td>-1.79%</td>\n",
       "      <td>738.0</td>\n",
       "      <td>117.570740</td>\n",
       "    </tr>\n",
       "    <tr>\n",
       "      <th>1</th>\n",
       "      <td>May 05, 2017</td>\n",
       "      <td>28184</td>\n",
       "      <td>28136</td>\n",
       "      <td>28382</td>\n",
       "      <td>28135</td>\n",
       "      <td>0.06K</td>\n",
       "      <td>0.44%</td>\n",
       "      <td>-146.0</td>\n",
       "      <td>295.430176</td>\n",
       "    </tr>\n",
       "    <tr>\n",
       "      <th>2</th>\n",
       "      <td>May 08, 2017</td>\n",
       "      <td>28119</td>\n",
       "      <td>28145</td>\n",
       "      <td>28255</td>\n",
       "      <td>28097</td>\n",
       "      <td>7.85K</td>\n",
       "      <td>-0.23%</td>\n",
       "      <td>30.0</td>\n",
       "      <td>132.123714</td>\n",
       "    </tr>\n",
       "    <tr>\n",
       "      <th>3</th>\n",
       "      <td>May 09, 2017</td>\n",
       "      <td>27981</td>\n",
       "      <td>28125</td>\n",
       "      <td>28192</td>\n",
       "      <td>27947</td>\n",
       "      <td>10.10K</td>\n",
       "      <td>-0.49%</td>\n",
       "      <td>357.0</td>\n",
       "      <td>101.298064</td>\n",
       "    </tr>\n",
       "    <tr>\n",
       "      <th>4</th>\n",
       "      <td>May 10, 2017</td>\n",
       "      <td>28007</td>\n",
       "      <td>28060</td>\n",
       "      <td>28146</td>\n",
       "      <td>27981</td>\n",
       "      <td>9.28K</td>\n",
       "      <td>0.09%</td>\n",
       "      <td>124.0</td>\n",
       "      <td>112.153318</td>\n",
       "    </tr>\n",
       "  </tbody>\n",
       "</table>\n",
       "</div>"
      ],
      "text/plain": [
       "           Date  Price   Open   High    Low    Vol. Change %   Pred  \\\n",
       "0  May 04, 2017  28060  28400  28482  28025   0.08K   -1.79%  738.0   \n",
       "1  May 05, 2017  28184  28136  28382  28135   0.06K    0.44% -146.0   \n",
       "2  May 08, 2017  28119  28145  28255  28097   7.85K   -0.23%   30.0   \n",
       "3  May 09, 2017  27981  28125  28192  27947  10.10K   -0.49%  357.0   \n",
       "4  May 10, 2017  28007  28060  28146  27981   9.28K    0.09%  124.0   \n",
       "\n",
       "          new  \n",
       "0  117.570740  \n",
       "1  295.430176  \n",
       "2  132.123714  \n",
       "3  101.298064  \n",
       "4  112.153318  "
      ]
     },
     "execution_count": 91,
     "metadata": {},
     "output_type": "execute_result"
    }
   ],
   "source": [
    "gold.head()"
   ]
  },
  {
   "cell_type": "code",
   "execution_count": 92,
   "metadata": {},
   "outputs": [
    {
     "data": {
      "text/plain": [
       "101"
      ]
     },
     "execution_count": 92,
     "metadata": {},
     "output_type": "execute_result"
    }
   ],
   "source": [
    "gold[\"Pred\"].isnull().sum().sum() # Finding the numbers of null values in pred column"
   ]
  },
  {
   "cell_type": "code",
   "execution_count": 93,
   "metadata": {},
   "outputs": [
    {
     "name": "stdout",
     "output_type": "stream",
     "text": [
      "<class 'pandas.core.frame.DataFrame'>\n",
      "RangeIndex: 512 entries, 0 to 511\n",
      "Data columns (total 9 columns):\n",
      "Date        512 non-null object\n",
      "Price       512 non-null int64\n",
      "Open        512 non-null int64\n",
      "High        512 non-null int64\n",
      "Low         512 non-null int64\n",
      "Vol.        512 non-null object\n",
      "Change %    512 non-null object\n",
      "Pred        411 non-null float64\n",
      "new         512 non-null float64\n",
      "dtypes: float64(2), int64(4), object(3)\n",
      "memory usage: 36.1+ KB\n"
     ]
    }
   ],
   "source": [
    "gold.info() "
   ]
  },
  {
   "cell_type": "code",
   "execution_count": 94,
   "metadata": {},
   "outputs": [],
   "source": [
    "\n",
    "regr = linear_model.LinearRegression() # Linear Regression model variable\n",
    "pred_col = pd.DataFrame() # Making a new dataframe\n",
    "new_col = pd.DataFrame() # Making a new dataframe"
   ]
  },
  {
   "cell_type": "code",
   "execution_count": 95,
   "metadata": {},
   "outputs": [],
   "source": [
    "pred_col[\"Open\"] = gold[\"Open\"] # Assigning values to the new dataframe\n",
    "pred_col[\"Price\"] = gold[\"Price\"]\n",
    "pred_col[\"High\"] = gold[\"High\"]\n",
    "pred_col[\"Low\"]=gold[\"High\"]\n",
    "pred_col[\"Pred\"] = gold[\"Pred\"]"
   ]
  },
  {
   "cell_type": "code",
   "execution_count": 96,
   "metadata": {},
   "outputs": [
    {
     "data": {
      "text/html": [
       "<div>\n",
       "<style scoped>\n",
       "    .dataframe tbody tr th:only-of-type {\n",
       "        vertical-align: middle;\n",
       "    }\n",
       "\n",
       "    .dataframe tbody tr th {\n",
       "        vertical-align: top;\n",
       "    }\n",
       "\n",
       "    .dataframe thead th {\n",
       "        text-align: right;\n",
       "    }\n",
       "</style>\n",
       "<table border=\"1\" class=\"dataframe\">\n",
       "  <thead>\n",
       "    <tr style=\"text-align: right;\">\n",
       "      <th></th>\n",
       "      <th>Open</th>\n",
       "      <th>Price</th>\n",
       "      <th>High</th>\n",
       "      <th>Low</th>\n",
       "      <th>Pred</th>\n",
       "    </tr>\n",
       "  </thead>\n",
       "  <tbody>\n",
       "    <tr>\n",
       "      <th>0</th>\n",
       "      <td>28400</td>\n",
       "      <td>28060</td>\n",
       "      <td>28482</td>\n",
       "      <td>28482</td>\n",
       "      <td>738.0</td>\n",
       "    </tr>\n",
       "    <tr>\n",
       "      <th>1</th>\n",
       "      <td>28136</td>\n",
       "      <td>28184</td>\n",
       "      <td>28382</td>\n",
       "      <td>28382</td>\n",
       "      <td>-146.0</td>\n",
       "    </tr>\n",
       "    <tr>\n",
       "      <th>2</th>\n",
       "      <td>28145</td>\n",
       "      <td>28119</td>\n",
       "      <td>28255</td>\n",
       "      <td>28255</td>\n",
       "      <td>30.0</td>\n",
       "    </tr>\n",
       "    <tr>\n",
       "      <th>3</th>\n",
       "      <td>28125</td>\n",
       "      <td>27981</td>\n",
       "      <td>28192</td>\n",
       "      <td>28192</td>\n",
       "      <td>357.0</td>\n",
       "    </tr>\n",
       "    <tr>\n",
       "      <th>4</th>\n",
       "      <td>28060</td>\n",
       "      <td>28007</td>\n",
       "      <td>28146</td>\n",
       "      <td>28146</td>\n",
       "      <td>124.0</td>\n",
       "    </tr>\n",
       "  </tbody>\n",
       "</table>\n",
       "</div>"
      ],
      "text/plain": [
       "    Open  Price   High    Low   Pred\n",
       "0  28400  28060  28482  28482  738.0\n",
       "1  28136  28184  28382  28382 -146.0\n",
       "2  28145  28119  28255  28255   30.0\n",
       "3  28125  27981  28192  28192  357.0\n",
       "4  28060  28007  28146  28146  124.0"
      ]
     },
     "execution_count": 96,
     "metadata": {},
     "output_type": "execute_result"
    }
   ],
   "source": [
    "pred_col.head()"
   ]
  },
  {
   "cell_type": "code",
   "execution_count": 97,
   "metadata": {},
   "outputs": [],
   "source": [
    "pred_col.dropna(inplace=True) # Dropping the null values for linear regression"
   ]
  },
  {
   "cell_type": "code",
   "execution_count": 98,
   "metadata": {},
   "outputs": [],
   "source": [
    "X=pred_col[[\"Price\",\"Open\",\"High\",\"Low\"]] # Setting X and Y variables for linear regression\n",
    "Y=pred_col[\"Pred\"]"
   ]
  },
  {
   "cell_type": "code",
   "execution_count": 132,
   "metadata": {},
   "outputs": [
    {
     "data": {
      "text/plain": [
       "LinearRegression(copy_X=True, fit_intercept=True, n_jobs=None, normalize=False)"
      ]
     },
     "execution_count": 132,
     "metadata": {},
     "output_type": "execute_result"
    }
   ],
   "source": [
    "# Performing linear regression on \"pred\" variable\n",
    "regr.fit(X,Y) # Fitting the X and Y variables"
   ]
  },
  {
   "cell_type": "code",
   "execution_count": 100,
   "metadata": {},
   "outputs": [
    {
     "name": "stdout",
     "output_type": "stream",
     "text": [
      "Coefficients: \n",
      " [-1.03168728  0.46625087  0.29030895  0.29030895]\n"
     ]
    }
   ],
   "source": [
    "\n",
    "print('Coefficients: \\n', regr.coef_) # The coefficients of all the columns for Price,Open,High,Low"
   ]
  },
  {
   "cell_type": "code",
   "execution_count": 101,
   "metadata": {},
   "outputs": [],
   "source": [
    "pred_data = pd.DataFrame()\n",
    "pred_data = gold.loc[gold[\"Pred\"].isnull()==True,[\"Price\",\"Open\",\"High\",\"Low\"]] # Extracting all the values which has null values in pred column "
   ]
  },
  {
   "cell_type": "code",
   "execution_count": 102,
   "metadata": {},
   "outputs": [],
   "source": [
    "a=pred_data['Price']\n",
    "b=pred_data['Open']\n",
    "c=pred_data['High']\n",
    "d=pred_data['Low']\n",
    "predicted_data = []\n",
    "for i in range(len(a)):\n",
    "    predicted_data.append(regr.predict([[a[i:i+1].item(),b[i:i+1].item(),c[i:i+1].item(),d[i:i+1].item()]]))#Storing the predicted data for the null pred values in the \"predicted_data\" list"
   ]
  },
  {
   "cell_type": "code",
   "execution_count": 103,
   "metadata": {},
   "outputs": [],
   "source": [
    "gold.loc[gold[\"Pred\"].isnull()==True,[\"Pred\"]] = predicted_data # Completing the entire column in the Pred column in the main csv file"
   ]
  },
  {
   "cell_type": "code",
   "execution_count": 104,
   "metadata": {},
   "outputs": [
    {
     "data": {
      "text/html": [
       "<div>\n",
       "<style scoped>\n",
       "    .dataframe tbody tr th:only-of-type {\n",
       "        vertical-align: middle;\n",
       "    }\n",
       "\n",
       "    .dataframe tbody tr th {\n",
       "        vertical-align: top;\n",
       "    }\n",
       "\n",
       "    .dataframe thead th {\n",
       "        text-align: right;\n",
       "    }\n",
       "</style>\n",
       "<table border=\"1\" class=\"dataframe\">\n",
       "  <thead>\n",
       "    <tr style=\"text-align: right;\">\n",
       "      <th></th>\n",
       "      <th>Date</th>\n",
       "      <th>Price</th>\n",
       "      <th>Open</th>\n",
       "      <th>High</th>\n",
       "      <th>Low</th>\n",
       "      <th>Vol.</th>\n",
       "      <th>Change %</th>\n",
       "      <th>Pred</th>\n",
       "      <th>new</th>\n",
       "    </tr>\n",
       "  </thead>\n",
       "  <tbody>\n",
       "    <tr>\n",
       "      <th>507</th>\n",
       "      <td>Apr 26, 2019</td>\n",
       "      <td>31868</td>\n",
       "      <td>31851</td>\n",
       "      <td>31934</td>\n",
       "      <td>31705</td>\n",
       "      <td>9.67K</td>\n",
       "      <td>0.08%</td>\n",
       "      <td>269.136302</td>\n",
       "      <td>247.177322</td>\n",
       "    </tr>\n",
       "    <tr>\n",
       "      <th>508</th>\n",
       "      <td>Apr 30, 2019</td>\n",
       "      <td>31625</td>\n",
       "      <td>31800</td>\n",
       "      <td>31824</td>\n",
       "      <td>31597</td>\n",
       "      <td>6.44K</td>\n",
       "      <td>-0.76%</td>\n",
       "      <td>432.770166</td>\n",
       "      <td>52.201158</td>\n",
       "    </tr>\n",
       "    <tr>\n",
       "      <th>509</th>\n",
       "      <td>May 01, 2019</td>\n",
       "      <td>31563</td>\n",
       "      <td>31604</td>\n",
       "      <td>31657</td>\n",
       "      <td>31503</td>\n",
       "      <td>1.55K</td>\n",
       "      <td>-0.20%</td>\n",
       "      <td>329.578971</td>\n",
       "      <td>113.293305</td>\n",
       "    </tr>\n",
       "    <tr>\n",
       "      <th>510</th>\n",
       "      <td>May 02, 2019</td>\n",
       "      <td>31203</td>\n",
       "      <td>31420</td>\n",
       "      <td>31425</td>\n",
       "      <td>31160</td>\n",
       "      <td>0.48K</td>\n",
       "      <td>-1.14%</td>\n",
       "      <td>448.268585</td>\n",
       "      <td>48.365693</td>\n",
       "    </tr>\n",
       "    <tr>\n",
       "      <th>511</th>\n",
       "      <td>May 03, 2019</td>\n",
       "      <td>31341</td>\n",
       "      <td>31250</td>\n",
       "      <td>31500</td>\n",
       "      <td>31163</td>\n",
       "      <td>0.08K</td>\n",
       "      <td>0.44%</td>\n",
       "      <td>249.277190</td>\n",
       "      <td>429.924911</td>\n",
       "    </tr>\n",
       "  </tbody>\n",
       "</table>\n",
       "</div>"
      ],
      "text/plain": [
       "             Date  Price   Open   High    Low   Vol. Change %        Pred  \\\n",
       "507  Apr 26, 2019  31868  31851  31934  31705  9.67K    0.08%  269.136302   \n",
       "508  Apr 30, 2019  31625  31800  31824  31597  6.44K   -0.76%  432.770166   \n",
       "509  May 01, 2019  31563  31604  31657  31503  1.55K   -0.20%  329.578971   \n",
       "510  May 02, 2019  31203  31420  31425  31160  0.48K   -1.14%  448.268585   \n",
       "511  May 03, 2019  31341  31250  31500  31163  0.08K    0.44%  249.277190   \n",
       "\n",
       "            new  \n",
       "507  247.177322  \n",
       "508   52.201158  \n",
       "509  113.293305  \n",
       "510   48.365693  \n",
       "511  429.924911  "
      ]
     },
     "execution_count": 104,
     "metadata": {},
     "output_type": "execute_result"
    }
   ],
   "source": [
    "gold.tail() # Completed column"
   ]
  },
  {
   "cell_type": "code",
   "execution_count": 105,
   "metadata": {},
   "outputs": [],
   "source": [
    "#Performing linear regression on \"new\" column\n",
    "new_col[\"Open\"] = gold[\"Open\"]\n",
    "new_col[\"Price\"] = gold[\"Price\"]\n",
    "new_col[\"High\"] = gold[\"High\"]\n",
    "new_col[\"Low\"]=gold[\"High\"]\n",
    "new_col[\"new\"] = gold[\"new\"]"
   ]
  },
  {
   "cell_type": "code",
   "execution_count": 106,
   "metadata": {},
   "outputs": [],
   "source": [
    "X1 = new_col[[\"Price\",\"Open\",\"High\",\"Low\"]]\n",
    "Y1 = new_col[[\"new\"]]"
   ]
  },
  {
   "cell_type": "code",
   "execution_count": 107,
   "metadata": {},
   "outputs": [
    {
     "data": {
      "text/plain": [
       "LinearRegression(copy_X=True, fit_intercept=True, n_jobs=None, normalize=False)"
      ]
     },
     "execution_count": 107,
     "metadata": {},
     "output_type": "execute_result"
    }
   ],
   "source": [
    "X_train, X_test, y_train, y_test = train_test_split(X1, Y1, test_size=0.2, random_state=42)# Splitting the vaiables into training set and testing set\n",
    "\n",
    "reg_new = linear_model.LinearRegression()\n",
    "reg_new.fit(X_train,y_train)"
   ]
  },
  {
   "cell_type": "code",
   "execution_count": 108,
   "metadata": {},
   "outputs": [],
   "source": [
    "predicted_sizes = reg_new.predict(X_test)  # Predicting values for test cases"
   ]
  },
  {
   "cell_type": "code",
   "execution_count": 109,
   "metadata": {},
   "outputs": [
    {
     "name": "stdout",
     "output_type": "stream",
     "text": [
      "0.929733347074728\n",
      "58.932357579042595\n"
     ]
    }
   ],
   "source": [
    "print(r2_score(y_test,predicted_sizes)) #Printing the R2 score\n",
    "print(np.sqrt(mean_squared_error(y_test,predicted_sizes)))"
   ]
  },
  {
   "cell_type": "markdown",
   "metadata": {},
   "source": [
    "As we can see the R2 score is near to 0.92 which is near to 1. We can conclude the linear regression model fits the \"new\" column well."
   ]
  },
  {
   "cell_type": "code",
   "execution_count": 110,
   "metadata": {},
   "outputs": [],
   "source": [
    "#Performing Polynomial regression on \"new\" column\n",
    "poly_reg = PolynomialFeatures(degree=4)\n",
    "X_train, X_test, y_train, y_test = train_test_split(X1, Y1, test_size=0.2, random_state=42)\n",
    "X_poly_train = poly_reg.fit_transform(X_train)\n",
    "X_poly_test = poly_reg.fit_transform(X_test)"
   ]
  },
  {
   "cell_type": "code",
   "execution_count": 111,
   "metadata": {},
   "outputs": [
    {
     "data": {
      "text/plain": [
       "LinearRegression(copy_X=True, fit_intercept=True, n_jobs=None, normalize=False)"
      ]
     },
     "execution_count": 111,
     "metadata": {},
     "output_type": "execute_result"
    }
   ],
   "source": [
    "reg_new.fit(X_poly_train,y_train)"
   ]
  },
  {
   "cell_type": "code",
   "execution_count": 112,
   "metadata": {},
   "outputs": [],
   "source": [
    "predicted_sizes = reg_new.predict(X_poly_test)"
   ]
  },
  {
   "cell_type": "code",
   "execution_count": 113,
   "metadata": {},
   "outputs": [
    {
     "name": "stdout",
     "output_type": "stream",
     "text": [
      "0.9609682890558998\n",
      "43.92259353050564\n"
     ]
    }
   ],
   "source": [
    "print(r2_score(y_test,predicted_sizes))\n",
    "print(np.sqrt(mean_squared_error(y_test,predicted_sizes)))"
   ]
  },
  {
   "cell_type": "markdown",
   "metadata": {},
   "source": [
    "As we can see the r2 score is 0.96. This model fits the data very well. Polynomial regression is better than linear reression model which had values 0.92 for the \"new\" column"
   ]
  },
  {
   "cell_type": "code",
   "execution_count": 114,
   "metadata": {},
   "outputs": [
    {
     "data": {
      "text/plain": [
       "LinearRegression(copy_X=True, fit_intercept=True, n_jobs=None, normalize=False)"
      ]
     },
     "execution_count": 114,
     "metadata": {},
     "output_type": "execute_result"
    }
   ],
   "source": [
    "#Performing polynomial regression for \"pred\" column\n",
    "poly_reg = PolynomialFeatures(degree=4)\n",
    "X_train, X_test, y_train, y_test = train_test_split(X, Y, test_size=0.2, random_state=42)\n",
    "X_poly_train = poly_reg.fit_transform(X_train)\n",
    "X_poly_test = poly_reg.fit_transform(X_test)\n",
    "reg_new.fit(X_poly_train,y_train)"
   ]
  },
  {
   "cell_type": "code",
   "execution_count": 115,
   "metadata": {},
   "outputs": [],
   "source": [
    "predicted_sizes = reg_new.predict(X_poly_test)"
   ]
  },
  {
   "cell_type": "code",
   "execution_count": 116,
   "metadata": {},
   "outputs": [
    {
     "name": "stdout",
     "output_type": "stream",
     "text": [
      "-1.5223848499733679\n",
      "394.49507394517843\n"
     ]
    }
   ],
   "source": [
    "print(r2_score(y_test,predicted_sizes))\n",
    "print(np.sqrt(mean_squared_error(y_test,predicted_sizes)))"
   ]
  },
  {
   "cell_type": "markdown",
   "metadata": {},
   "source": [
    "As we can see the r2 score is negative(=-1.52), the model does not fit the data."
   ]
  },
  {
   "cell_type": "markdown",
   "metadata": {},
   "source": [
    "As we can infer from the results polynomial regression does not fit the \"pred\" column but fits the \"new\" column very well. But linear regression fits both model well.\n",
    "\n",
    "The \"pred\" column is linear function of variables and the \"\"new\" column is polynomial function of variables"
   ]
  },
  {
   "cell_type": "markdown",
   "metadata": {},
   "source": [
    "The sensitivity of a stock with respect to the market depends on its beta value."
   ]
  },
  {
   "cell_type": "markdown",
   "metadata": {},
   "source": [
    "When the market values jumps somehow the stock value varies according to its beta values "
   ]
  },
  {
   "cell_type": "markdown",
   "metadata": {},
   "source": [
    "**Answer 2**"
   ]
  },
  {
   "cell_type": "code",
   "execution_count": 117,
   "metadata": {},
   "outputs": [
    {
     "data": {
      "text/html": [
       "<div>\n",
       "<style scoped>\n",
       "    .dataframe tbody tr th:only-of-type {\n",
       "        vertical-align: middle;\n",
       "    }\n",
       "\n",
       "    .dataframe tbody tr th {\n",
       "        vertical-align: top;\n",
       "    }\n",
       "\n",
       "    .dataframe thead th {\n",
       "        text-align: right;\n",
       "    }\n",
       "</style>\n",
       "<table border=\"1\" class=\"dataframe\">\n",
       "  <thead>\n",
       "    <tr style=\"text-align: right;\">\n",
       "      <th></th>\n",
       "      <th>Date</th>\n",
       "      <th>Open</th>\n",
       "      <th>High</th>\n",
       "      <th>Low</th>\n",
       "      <th>Close</th>\n",
       "      <th>Shares Traded</th>\n",
       "      <th>Turnover (Rs. Cr)</th>\n",
       "    </tr>\n",
       "  </thead>\n",
       "  <tbody>\n",
       "    <tr>\n",
       "      <th>0</th>\n",
       "      <td>15-May-2017</td>\n",
       "      <td>9433.55</td>\n",
       "      <td>9449.25</td>\n",
       "      <td>9423.10</td>\n",
       "      <td>9445.40</td>\n",
       "      <td>145163953</td>\n",
       "      <td>7790.97</td>\n",
       "    </tr>\n",
       "    <tr>\n",
       "      <th>1</th>\n",
       "      <td>16-May-2017</td>\n",
       "      <td>9461.00</td>\n",
       "      <td>9517.20</td>\n",
       "      <td>9456.35</td>\n",
       "      <td>9512.25</td>\n",
       "      <td>171709433</td>\n",
       "      <td>9209.89</td>\n",
       "    </tr>\n",
       "    <tr>\n",
       "      <th>2</th>\n",
       "      <td>17-May-2017</td>\n",
       "      <td>9517.60</td>\n",
       "      <td>9532.60</td>\n",
       "      <td>9486.10</td>\n",
       "      <td>9525.75</td>\n",
       "      <td>211856040</td>\n",
       "      <td>10726.23</td>\n",
       "    </tr>\n",
       "    <tr>\n",
       "      <th>3</th>\n",
       "      <td>18-May-2017</td>\n",
       "      <td>9453.20</td>\n",
       "      <td>9489.10</td>\n",
       "      <td>9418.10</td>\n",
       "      <td>9429.45</td>\n",
       "      <td>199340647</td>\n",
       "      <td>10782.46</td>\n",
       "    </tr>\n",
       "    <tr>\n",
       "      <th>4</th>\n",
       "      <td>19-May-2017</td>\n",
       "      <td>9469.90</td>\n",
       "      <td>9505.75</td>\n",
       "      <td>9390.75</td>\n",
       "      <td>9427.90</td>\n",
       "      <td>259861396</td>\n",
       "      <td>11544.77</td>\n",
       "    </tr>\n",
       "  </tbody>\n",
       "</table>\n",
       "</div>"
      ],
      "text/plain": [
       "          Date     Open     High      Low    Close  Shares Traded  \\\n",
       "0  15-May-2017  9433.55  9449.25  9423.10  9445.40      145163953   \n",
       "1  16-May-2017  9461.00  9517.20  9456.35  9512.25      171709433   \n",
       "2  17-May-2017  9517.60  9532.60  9486.10  9525.75      211856040   \n",
       "3  18-May-2017  9453.20  9489.10  9418.10  9429.45      199340647   \n",
       "4  19-May-2017  9469.90  9505.75  9390.75  9427.90      259861396   \n",
       "\n",
       "   Turnover (Rs. Cr)  \n",
       "0            7790.97  \n",
       "1            9209.89  \n",
       "2           10726.23  \n",
       "3           10782.46  \n",
       "4           11544.77  "
      ]
     },
     "execution_count": 117,
     "metadata": {},
     "output_type": "execute_result"
    }
   ],
   "source": [
    "lt = pd.read_csv(\"HDFC.csv\")\n",
    "nifty = pd.read_csv(\"Nifty50.csv\")#Loading the Nifty50 index file\n",
    "nifty.head()"
   ]
  },
  {
   "cell_type": "code",
   "execution_count": 118,
   "metadata": {},
   "outputs": [],
   "source": [
    "lt = lt[lt[\"Series\"]==\"EQ\"] # Removing row not having series value as EQ"
   ]
  },
  {
   "cell_type": "code",
   "execution_count": 119,
   "metadata": {},
   "outputs": [],
   "source": [
    "# Setting date as Index for both stock and market data\n",
    "lt[\"Date\"] = pd.to_datetime(lt[\"Date\"])\n",
    "nifty[\"Date\"] = pd.to_datetime(nifty[\"Date\"])\n",
    "nifty.set_index(\"Date\",inplace = True)\n",
    "lt.set_index(\"Date\",inplace = True)"
   ]
  },
  {
   "cell_type": "code",
   "execution_count": 120,
   "metadata": {},
   "outputs": [],
   "source": [
    "daily_returns_stock = lt['Close Price'].pct_change()# Calculating daily returns for stock data\n",
    "monthly_returns_stock = lt['Close Price'].resample('M').ffill().pct_change()# Calculating monthly returns for stock data"
   ]
  },
  {
   "cell_type": "code",
   "execution_count": 121,
   "metadata": {},
   "outputs": [
    {
     "data": {
      "text/html": [
       "<div>\n",
       "<style scoped>\n",
       "    .dataframe tbody tr th:only-of-type {\n",
       "        vertical-align: middle;\n",
       "    }\n",
       "\n",
       "    .dataframe tbody tr th {\n",
       "        vertical-align: top;\n",
       "    }\n",
       "\n",
       "    .dataframe thead th {\n",
       "        text-align: right;\n",
       "    }\n",
       "</style>\n",
       "<table border=\"1\" class=\"dataframe\">\n",
       "  <thead>\n",
       "    <tr style=\"text-align: right;\">\n",
       "      <th></th>\n",
       "      <th>Symbol</th>\n",
       "      <th>Series</th>\n",
       "      <th>Prev Close</th>\n",
       "      <th>Open Price</th>\n",
       "      <th>High Price</th>\n",
       "      <th>Low Price</th>\n",
       "      <th>Last Price</th>\n",
       "      <th>Close Price</th>\n",
       "      <th>Average Price</th>\n",
       "      <th>Total Traded Quantity</th>\n",
       "      <th>Turnover</th>\n",
       "      <th>No. of Trades</th>\n",
       "      <th>Deliverable Qty</th>\n",
       "      <th>% Dly Qt to Traded Qty</th>\n",
       "    </tr>\n",
       "    <tr>\n",
       "      <th>Date</th>\n",
       "      <th></th>\n",
       "      <th></th>\n",
       "      <th></th>\n",
       "      <th></th>\n",
       "      <th></th>\n",
       "      <th></th>\n",
       "      <th></th>\n",
       "      <th></th>\n",
       "      <th></th>\n",
       "      <th></th>\n",
       "      <th></th>\n",
       "      <th></th>\n",
       "      <th></th>\n",
       "      <th></th>\n",
       "    </tr>\n",
       "  </thead>\n",
       "  <tbody>\n",
       "    <tr>\n",
       "      <th>2017-05-15</th>\n",
       "      <td>HDFC</td>\n",
       "      <td>EQ</td>\n",
       "      <td>1549.80</td>\n",
       "      <td>1554.5</td>\n",
       "      <td>1572.60</td>\n",
       "      <td>1554.10</td>\n",
       "      <td>1561.0</td>\n",
       "      <td>1559.50</td>\n",
       "      <td>1562.62</td>\n",
       "      <td>1270297</td>\n",
       "      <td>1.984990e+09</td>\n",
       "      <td>59917</td>\n",
       "      <td>955875</td>\n",
       "      <td>75.25</td>\n",
       "    </tr>\n",
       "    <tr>\n",
       "      <th>2017-05-16</th>\n",
       "      <td>HDFC</td>\n",
       "      <td>EQ</td>\n",
       "      <td>1559.50</td>\n",
       "      <td>1558.0</td>\n",
       "      <td>1569.00</td>\n",
       "      <td>1554.00</td>\n",
       "      <td>1568.0</td>\n",
       "      <td>1566.55</td>\n",
       "      <td>1564.05</td>\n",
       "      <td>2114918</td>\n",
       "      <td>3.307844e+09</td>\n",
       "      <td>79354</td>\n",
       "      <td>1652379</td>\n",
       "      <td>78.13</td>\n",
       "    </tr>\n",
       "    <tr>\n",
       "      <th>2017-05-17</th>\n",
       "      <td>HDFC</td>\n",
       "      <td>EQ</td>\n",
       "      <td>1566.55</td>\n",
       "      <td>1565.5</td>\n",
       "      <td>1570.95</td>\n",
       "      <td>1549.75</td>\n",
       "      <td>1550.1</td>\n",
       "      <td>1552.50</td>\n",
       "      <td>1557.08</td>\n",
       "      <td>2161434</td>\n",
       "      <td>3.365526e+09</td>\n",
       "      <td>80317</td>\n",
       "      <td>1794472</td>\n",
       "      <td>83.02</td>\n",
       "    </tr>\n",
       "    <tr>\n",
       "      <th>2017-05-18</th>\n",
       "      <td>HDFC</td>\n",
       "      <td>EQ</td>\n",
       "      <td>1552.50</td>\n",
       "      <td>1547.0</td>\n",
       "      <td>1558.60</td>\n",
       "      <td>1526.50</td>\n",
       "      <td>1545.0</td>\n",
       "      <td>1537.05</td>\n",
       "      <td>1539.03</td>\n",
       "      <td>2404372</td>\n",
       "      <td>3.700407e+09</td>\n",
       "      <td>85842</td>\n",
       "      <td>1837821</td>\n",
       "      <td>76.44</td>\n",
       "    </tr>\n",
       "    <tr>\n",
       "      <th>2017-05-19</th>\n",
       "      <td>HDFC</td>\n",
       "      <td>EQ</td>\n",
       "      <td>1537.05</td>\n",
       "      <td>1545.0</td>\n",
       "      <td>1548.00</td>\n",
       "      <td>1515.35</td>\n",
       "      <td>1526.5</td>\n",
       "      <td>1520.60</td>\n",
       "      <td>1526.14</td>\n",
       "      <td>2142433</td>\n",
       "      <td>3.269652e+09</td>\n",
       "      <td>113875</td>\n",
       "      <td>1601236</td>\n",
       "      <td>74.74</td>\n",
       "    </tr>\n",
       "  </tbody>\n",
       "</table>\n",
       "</div>"
      ],
      "text/plain": [
       "           Symbol Series  Prev Close  Open Price  High Price  Low Price  \\\n",
       "Date                                                                      \n",
       "2017-05-15   HDFC     EQ     1549.80      1554.5     1572.60    1554.10   \n",
       "2017-05-16   HDFC     EQ     1559.50      1558.0     1569.00    1554.00   \n",
       "2017-05-17   HDFC     EQ     1566.55      1565.5     1570.95    1549.75   \n",
       "2017-05-18   HDFC     EQ     1552.50      1547.0     1558.60    1526.50   \n",
       "2017-05-19   HDFC     EQ     1537.05      1545.0     1548.00    1515.35   \n",
       "\n",
       "            Last Price  Close Price  Average Price  Total Traded Quantity  \\\n",
       "Date                                                                        \n",
       "2017-05-15      1561.0      1559.50        1562.62                1270297   \n",
       "2017-05-16      1568.0      1566.55        1564.05                2114918   \n",
       "2017-05-17      1550.1      1552.50        1557.08                2161434   \n",
       "2017-05-18      1545.0      1537.05        1539.03                2404372   \n",
       "2017-05-19      1526.5      1520.60        1526.14                2142433   \n",
       "\n",
       "                Turnover  No. of Trades  Deliverable Qty  \\\n",
       "Date                                                       \n",
       "2017-05-15  1.984990e+09          59917           955875   \n",
       "2017-05-16  3.307844e+09          79354          1652379   \n",
       "2017-05-17  3.365526e+09          80317          1794472   \n",
       "2017-05-18  3.700407e+09          85842          1837821   \n",
       "2017-05-19  3.269652e+09         113875          1601236   \n",
       "\n",
       "            % Dly Qt to Traded Qty  \n",
       "Date                                \n",
       "2017-05-15                   75.25  \n",
       "2017-05-16                   78.13  \n",
       "2017-05-17                   83.02  \n",
       "2017-05-18                   76.44  \n",
       "2017-05-19                   74.74  "
      ]
     },
     "execution_count": 121,
     "metadata": {},
     "output_type": "execute_result"
    }
   ],
   "source": [
    "lt.head()"
   ]
  },
  {
   "cell_type": "code",
   "execution_count": 122,
   "metadata": {},
   "outputs": [],
   "source": [
    "#Setting the first value as 0\n",
    "monthly_returns_stock[0]=0\n",
    "daily_returns_stock[0]=0"
   ]
  },
  {
   "cell_type": "code",
   "execution_count": 123,
   "metadata": {},
   "outputs": [],
   "source": [
    "daily_returns_market = nifty['Close'].pct_change()#Calculating the daily return for nifty index\n",
    "monthly_returns_market = nifty['Close'].resample('M').ffill().pct_change()#Calculating the monthly return for nifty index\n",
    "daily_returns_market[0]=0\n",
    "monthly_returns_market[0]=0"
   ]
  },
  {
   "cell_type": "code",
   "execution_count": 124,
   "metadata": {},
   "outputs": [],
   "source": [
    "rs =daily_returns_stock.values.reshape(-1,1)# Assigning daily return stock values a variable\n",
    "rm = daily_returns_market.values.reshape(-1,1)# Assigning daily return market values a vaiable"
   ]
  },
  {
   "cell_type": "code",
   "execution_count": 125,
   "metadata": {},
   "outputs": [
    {
     "data": {
      "text/plain": [
       "LinearRegression(copy_X=True, fit_intercept=True, n_jobs=None, normalize=False)"
      ]
     },
     "execution_count": 125,
     "metadata": {},
     "output_type": "execute_result"
    }
   ],
   "source": [
    "reg_b = linear_model.LinearRegression()\n",
    "reg_b.fit(rm,rs) #Fitting the values for daily return "
   ]
  },
  {
   "cell_type": "code",
   "execution_count": 126,
   "metadata": {},
   "outputs": [],
   "source": [
    "beta_daily = reg_b.coef_# Finding the slope "
   ]
  },
  {
   "cell_type": "code",
   "execution_count": 127,
   "metadata": {},
   "outputs": [
    {
     "data": {
      "text/plain": [
       "array([[1.13003525]])"
      ]
     },
     "execution_count": 127,
     "metadata": {},
     "output_type": "execute_result"
    }
   ],
   "source": [
    "beta_daily # This is our daily return beta value"
   ]
  },
  {
   "cell_type": "code",
   "execution_count": 128,
   "metadata": {},
   "outputs": [],
   "source": [
    "rs =monthly_returns_stock.values.reshape(-1,1)# Assigning monthly return stock values a variable\n",
    "rm = monthly_returns_market.values.reshape(-1,1)# Assigning monthly return market values a vaiable"
   ]
  },
  {
   "cell_type": "code",
   "execution_count": 129,
   "metadata": {},
   "outputs": [
    {
     "data": {
      "text/plain": [
       "LinearRegression(copy_X=True, fit_intercept=True, n_jobs=None, normalize=False)"
      ]
     },
     "execution_count": 129,
     "metadata": {},
     "output_type": "execute_result"
    }
   ],
   "source": [
    "reg_b = linear_model.LinearRegression()\n",
    "reg_b.fit(rm,rs)#Fitting the values for monthly return"
   ]
  },
  {
   "cell_type": "code",
   "execution_count": 130,
   "metadata": {},
   "outputs": [],
   "source": [
    "beta_monthly=reg_b.coef_# Finding the slope "
   ]
  },
  {
   "cell_type": "code",
   "execution_count": 131,
   "metadata": {},
   "outputs": [
    {
     "data": {
      "text/plain": [
       "array([[0.94520816]])"
      ]
     },
     "execution_count": 131,
     "metadata": {},
     "output_type": "execute_result"
    }
   ],
   "source": [
    "beta_monthly# This is our monthly return beta value"
   ]
  },
  {
   "cell_type": "markdown",
   "metadata": {},
   "source": [
    "The daily beta value is greter than 1 i.e 1.13. This means stock values are more volatile the the market. The return would be 113% of what the market return on a daily basis.\n",
    "\n",
    "The monthly beta value is less than 1 i.e. 0.94. This means the stock values are less volatile than the market.It would have returned only 94% of what the market returned on the monthly period."
   ]
  },
  {
   "cell_type": "markdown",
   "metadata": {},
   "source": [
    "A company with negative beta is negatively correlated to the returns of the market. For example a company with a beta of -0.2, which would have returned -2% when the market was up by 10%  "
   ]
  },
  {
   "cell_type": "code",
   "execution_count": null,
   "metadata": {},
   "outputs": [],
   "source": []
  }
 ],
 "metadata": {
  "kernelspec": {
   "display_name": "Python 3",
   "language": "python",
   "name": "python3"
  },
  "language_info": {
   "codemirror_mode": {
    "name": "ipython",
    "version": 3
   },
   "file_extension": ".py",
   "mimetype": "text/x-python",
   "name": "python",
   "nbconvert_exporter": "python",
   "pygments_lexer": "ipython3",
   "version": "3.6.4"
  }
 },
 "nbformat": 4,
 "nbformat_minor": 2
}
